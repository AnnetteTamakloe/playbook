{
 "cells": [
  {
   "cell_type": "markdown",
   "id": "bca16916-3c00-4786-918e-3ab603c24070",
   "metadata": {
    "tags": []
   },
   "source": [
    "# Your Coding Environment"
   ]
  },
  {
   "cell_type": "markdown",
   "id": "4598522f-65ba-4fad-9c31-b282ad211ae3",
   "metadata": {},
   "source": [
    "The first and most important step in the analytics journey is setting up the right environments to execute your projects and ideas. I use Python for most of my projects because it is fairly easy to learn and is one of the most common tools used for projects in several fields such as Data Science, Cybersecurity, Data Engineering and even App Development.\n",
    "\n",
    "[Python](https://www.python.org/downloads/) can be downloaded directly or you can have it downloaded through the Anaconda Distribution, which includes Python, R and other Data Science tools."
   ]
  },
  {
   "cell_type": "markdown",
   "id": "ad815c75-605d-45c1-b465-43fdf7570c1a",
   "metadata": {
    "jp-MarkdownHeadingCollapsed": true,
    "tags": []
   },
   "source": [
    "## Anaconda Navigator "
   ]
  },
  {
   "cell_type": "markdown",
   "id": "72eab457-1f26-48d6-978a-1ffd7e9da3f7",
   "metadata": {},
   "source": [
    "You can download Anaconda Navigator [here](https://www.anaconda.com/download/). After downloading it, find Anaconda Navigator on your computer and open it. You will see an ton of tools like **Jupyter Notebook, Jupyter Lab, PyCharm, VS Code, R Studio** and more to choose from. Personally I love using **Jupyter Lab** for all things Python and occasionally I also use **VS Code**. **VS Code** should come as part of the Anaconda bundle but if its not available in Anaconda, it can be downloaded [here](https://code.visualstudio.com/download).\n",
    "\n",
    "Lets start with a quick overview of Jupyter Lab. To access it, click  the **launch** button. "
   ]
  },
  {
   "cell_type": "markdown",
   "id": "41333712-f42a-4fe0-85da-f6fdd62a5739",
   "metadata": {},
   "source": [
    "![Anaconda_Home_Page.png](Anaconda_Home_Page.png)"
   ]
  },
  {
   "cell_type": "markdown",
   "id": "f6aeeabc-e24d-452e-b320-3a5a51251628",
   "metadata": {
    "jp-MarkdownHeadingCollapsed": true,
    "tags": []
   },
   "source": [
    "## Introduction to Jupyter Lab"
   ]
  },
  {
   "cell_type": "markdown",
   "id": "6d25ca6c-2cab-4822-8d8c-6e696d082d35",
   "metadata": {},
   "source": [
    "One you have launched Jupyter, click on the folder icon. Under **Name**, you should see some familiar folders and files you currently have saved on your computer. Anything you create in Jupyter will automatically be saved locally in whatever directory you are currently in (which Jupyter will show you). It is very important to have awareness of the folders you will use as directories. I personally like to create new folders for each project I build."
   ]
  },
  {
   "cell_type": "markdown",
   "id": "1c3de339-4136-468d-8c36-2e28bcd469ac",
   "metadata": {},
   "source": [
    "![JBStep1.1.png](JBStep1.1.png)"
   ]
  },
  {
   "cell_type": "markdown",
   "id": "843f2931-3734-428c-b097-44fa304fdf3e",
   "metadata": {
    "jp-MarkdownHeadingCollapsed": true,
    "tags": []
   },
   "source": [
    "### 1.1. Creating New Folders in Jupyter"
   ]
  },
  {
   "cell_type": "markdown",
   "id": "7c217d1e-19c4-4a45-9619-5ae801bfb5e6",
   "metadata": {},
   "source": [
    "You can add a new folder by clicking on the **folder** icon or by right clicking anywhere in the current directory and selecting **New Folder**. "
   ]
  },
  {
   "cell_type": "markdown",
   "id": "ffc9312c-2be4-4c9e-b55f-722fa7bd362a",
   "metadata": {},
   "source": [
    "![JBStep2-newfolder.png](JBStep2-newfolder.png)"
   ]
  },
  {
   "cell_type": "markdown",
   "id": "b6484f3d-7b3a-4d76-8117-e8617ff25dd4",
   "metadata": {},
   "source": [
    "Be sure to give your folder a distinct name to set it apart from other directories on your computer. "
   ]
  },
  {
   "cell_type": "markdown",
   "id": "3150e020-30f0-43b5-84cb-a1eb2bcf0f6a",
   "metadata": {},
   "source": [
    "![DSprojects.png](DSprojects.png)"
   ]
  },
  {
   "cell_type": "markdown",
   "id": "cd3f0739-1666-4930-bfd6-68474af9a7a1",
   "metadata": {},
   "source": [
    "Now a whole new directory is available for you to use for your projects! To make this folder your working directory, double click it."
   ]
  },
  {
   "cell_type": "markdown",
   "id": "0ccd1cfe-3247-4b80-b681-9686f3b9b5ab",
   "metadata": {},
   "source": [
    "![NewfolderStep1.png](NewfolderStep1.png)"
   ]
  },
  {
   "cell_type": "markdown",
   "id": "460f78cc-e62b-4dad-9d6c-4de157daaad8",
   "metadata": {
    "jp-MarkdownHeadingCollapsed": true,
    "tags": []
   },
   "source": [
    "### 1.2. Launching Your First Notebook"
   ]
  },
  {
   "cell_type": "markdown",
   "id": "b81a7149-5d01-42ae-951a-f3b0ae5493fd",
   "metadata": {},
   "source": [
    "Once you are in the folder, click on **Python 3(ipykernal)** under Notebook. This will open up a new notebook that you can use to code. You can also access other interfaces through the **Launcher** tab such as the Command Line (Terminal)."
   ]
  },
  {
   "cell_type": "markdown",
   "id": "75dc761c-9380-44c1-93ba-75f709db00ec",
   "metadata": {},
   "source": [
    "![launchnotebook-infolder.png](launchnotebook-infolder.png)"
   ]
  },
  {
   "cell_type": "markdown",
   "id": "287a7e57-aa4f-4164-a5f0-568c5e815906",
   "metadata": {},
   "source": [
    "Now that you have opened your first notebook, lets go through some of the more relavant tabs and discuss their functions."
   ]
  },
  {
   "cell_type": "markdown",
   "id": "c07381b9-e573-4130-a092-75cbc94a9bb8",
   "metadata": {
    "jp-MarkdownHeadingCollapsed": true,
    "tags": []
   },
   "source": [
    "### 1.3. Important Jupyter Notebook Functions"
   ]
  },
  {
   "cell_type": "markdown",
   "id": "5301e5cc-a4b2-47c8-a401-5f5c7dbd4fd8",
   "metadata": {
    "jp-MarkdownHeadingCollapsed": true,
    "tags": []
   },
   "source": [
    "#### File Tab"
   ]
  },
  {
   "cell_type": "markdown",
   "id": "8a60b326-0160-4de8-92d5-10ff14f27dc2",
   "metadata": {},
   "source": [
    "![File_tab.png](File_tab.png)"
   ]
  },
  {
   "cell_type": "markdown",
   "id": "8a5c816f-2b04-4673-a504-69844a717e47",
   "metadata": {},
   "source": [
    "1. **New**: The name is self-explanatory as it allows you to create multiple new Notebooks for your Python or Data Science projects.\n",
    "2. **Open**: This command will redirect you to your local host and you can open other files from there.\n",
    "3. **Save Notebook as**: Used to save your Notebook with a specific path.\n",
    "4. **Rename Notebook**: You can use this command to Rename your Notebook or simply double click on the title header instead for performing the same action.\n",
    "5. **Revert Notebook to Checkpoint**: If you ever mess up with while experimenting with the Jupyter Notebook, this is an useful command to revert back to your previous saved state and nullify your mistakes.\n",
    "6. **Print**: Used to get only the code part of the Jupyter Notebook for a clean print.\n",
    "7. **Download**: Allows you to download your Jupyter Notebook in various formats including HTML, IPython, .py format, etc., among many other options."
   ]
  },
  {
   "cell_type": "markdown",
   "id": "b6bf3172-f102-487a-94d7-6f19371c2cbd",
   "metadata": {
    "jp-MarkdownHeadingCollapsed": true,
    "tags": []
   },
   "source": [
    "#### Kernal Tab"
   ]
  },
  {
   "cell_type": "markdown",
   "id": "527470aa-25c4-4543-ab53-73aca9651fb9",
   "metadata": {},
   "source": [
    "![kernal_tab.png](kernal_tab.png)"
   ]
  },
  {
   "cell_type": "markdown",
   "id": "6ba2c0fa-5218-4fa6-bc70-2779b27f1b97",
   "metadata": {},
   "source": [
    "The Jupyter notebook kernal is a tool that helps us execute python code in Jupyter notebook, hence why it is called the ipython kernal when we launch a notebook. These are the main functions in the Kernal tab: "
   ]
  },
  {
   "cell_type": "markdown",
   "id": "461c4055-ab73-4a33-b272-e157a1996a95",
   "metadata": {},
   "source": [
    "1. **Interrupt**: Used to stop the execution or running of a particular cell. This command is useful when you have reached a desired result within a specific number of epochs or in case you made an error, and you realize this while running the code.\n",
    "2. **Restart**: Useful to restart the Kernel of the Notebook.\n",
    "3. **Restart and Clear Output**: Used to restart the Kernel of the Notebook and reset all the cells that were run previously.\n",
    "4. **Restart and Run all**: Used to restart the Kernel of the Notebook, and reset all the cells that were run previously, and finally re-run through all the cells of the Notebook.\n",
    "5. **Reconnect**: Used to reconnect to a dead kernel which might occur at times due to a lack of memory.\n",
    "6. **Shutdown**: Used to shutdown the current working Kernel of the Notebook.\n",
    "7. **Change kernel**: Allows you to switch Kernels."
   ]
  },
  {
   "cell_type": "markdown",
   "id": "fbe369db-bceb-46c1-939f-5fa7da7d6b84",
   "metadata": {
    "jp-MarkdownHeadingCollapsed": true,
    "tags": []
   },
   "source": [
    "#### Command Icon Palette:\n",
    "Lets talk about the icon palette in your notebook, starting from the first icon, which is the save icon, until the end. This pallete will be useful for quickly completing the majority of your tasks in the notebook"
   ]
  },
  {
   "cell_type": "markdown",
   "id": "09512879-ceb0-4ea8-9b90-16a40fd0bcdc",
   "metadata": {},
   "source": [
    "![JB_Command_Line.png](JB_Command_Line.png)"
   ]
  },
  {
   "cell_type": "markdown",
   "id": "a4b7de98-d068-4b57-87a0-b6aec02f1637",
   "metadata": {},
   "source": [
    "1. **Save and Checkpoint**: As the name suggests it saves your progress and checkpoints the file accordingly. The shortcut key ctrl + s will perform an equivalent action.\n",
    "2. **Insert Cell Below**: Adds a new cell below.\n",
    "3. **Cut Selected Cells**: Cuts the selected cells.\n",
    "4. **Copy Selected Cells**: Copies the selected cells.\n",
    "5. **Paste Selected Cells**: Pastes the selected cells.\n",
    "7. **Run**: Runs the particular selected cell.\n",
    "8. **Interrupt**: Used to stop the execution or running of a particular cell.\n",
    "9. **Restart**: Useful to restart the Kernel of the Notebook.\n",
    "10. **Restart and Run all**: Used to restart the Kernel of the Notebook, and reset all the cells that were run previously, and finally re-run through all the cells of the Notebook.\n",
    "11. **Change Cell Type**: Allows you the option to convert the type of cell into your desired type ranging from Code, Markdown, etc.\n",
    "\n",
    "![cell-types.png](cell-types.png)"
   ]
  },
  {
   "cell_type": "markdown",
   "id": "e9c8245d-205d-41b0-ada8-24a9e5a67969",
   "metadata": {
    "jp-MarkdownHeadingCollapsed": true,
    "tags": []
   },
   "source": [
    "#### Cell Types\n",
    "Jupyter Notebook has 3 types of cell types:\n",
    "1. **Code**: Where you can write and execute python code \n",
    "2. **Markdown**: Where you write text w\n",
    "3. **Raw**: You can use this type of cell to write in different formats such as HTML \n",
    "\n",
    "The most commonly used cell types are Code and Markdown."
   ]
  },
  {
   "cell_type": "markdown",
   "id": "60402d1a-aa2b-443c-b376-716510f88f06",
   "metadata": {
    "jp-MarkdownHeadingCollapsed": true,
    "tags": []
   },
   "source": [
    "### 1.4. Running Cells in Jupyter"
   ]
  },
  {
   "cell_type": "markdown",
   "id": "97cefa45-87bd-4b7c-86e4-1549208bb1ae",
   "metadata": {},
   "source": [
    "You can run the notebook document step-by-step (one cell a time) by pressing *crtl + enter* for running the particular cell or *shift + enter* to run the current cell as well create a new cell below it. You can run the whole notebook in a single step by clicking on the menu Run -> Run All Cells."
   ]
  },
  {
   "cell_type": "markdown",
   "id": "2d2c3d8e-105c-4224-8590-50abc0c830af",
   "metadata": {},
   "source": [
    "![cell1.png](cell1.png)"
   ]
  },
  {
   "cell_type": "markdown",
   "id": "36ead544-5b55-4767-afb5-7a033ff83365",
   "metadata": {},
   "source": [
    "The above image is a representation of how each of these cells can run as separate blocks. In the first code cell you can notice that we have used the print statement for printing a basic “Hello World!” program, while we've turned the second one to a Markdown cell. After running all cell blocks, this is what you should get."
   ]
  },
  {
   "cell_type": "markdown",
   "id": "3a74b45f-5ed5-41d1-93b9-092e803d5754",
   "metadata": {},
   "source": [
    "![output_cell.png](output_cell.png)"
   ]
  },
  {
   "cell_type": "markdown",
   "id": "9cc6080e-a5bd-488f-a6ff-de80e8a9be84",
   "metadata": {},
   "source": [
    "Any thing you write after a hashtag(#) will be considered text and won't be executed as code.\n",
    "\n",
    "On the other hand, anything your write after # in a markdown cell will be considered a header. Click [here](https://jupyter-notebook.readthedocs.io/en/stable/examples/Notebook/Working%20With%20Markdown%20Cells.html) to find out more about markdowns."
   ]
  },
  {
   "cell_type": "markdown",
   "id": "b2d52b2c-07fb-4353-98e3-8d8236a964ef",
   "metadata": {
    "jp-MarkdownHeadingCollapsed": true,
    "tags": []
   },
   "source": [
    "## *A Short Aside on Keyboard Short Cuts* "
   ]
  },
  {
   "cell_type": "markdown",
   "id": "29bcf6f3-201c-43cd-95f9-931e8a36db0d",
   "metadata": {},
   "source": [
    "Knowing keyboard shortcuts will make coding a lot easier for you. I tend to use well known short cuts like **ctrl z** to undo errors I've made, or **ctrl c** to copy and **ctrl v** to paste, but there are many more keyboard shortcuts that can aid you. You can use the image below to uncover more shortcuts or use this [resource](https://gist.github.com/discdiver/9e00618756d120a8c9fa344ac1c375ac#file-jupyterlab_shortcuts-md) to find out more about shortcuts"
   ]
  },
  {
   "cell_type": "markdown",
   "id": "eb92d211-e05d-4bbe-827a-be6a25d30575",
   "metadata": {},
   "source": [
    "![key_board.png](key_board.png)"
   ]
  }
 ],
 "metadata": {
  "kernelspec": {
   "display_name": "Python 3 (ipykernel)",
   "language": "python",
   "name": "python3"
  },
  "language_info": {
   "codemirror_mode": {
    "name": "ipython",
    "version": 3
   },
   "file_extension": ".py",
   "mimetype": "text/x-python",
   "name": "python",
   "nbconvert_exporter": "python",
   "pygments_lexer": "ipython3",
   "version": "3.9.13"
  }
 },
 "nbformat": 4,
 "nbformat_minor": 5
}
