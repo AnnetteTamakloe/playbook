{
 "cells": [
  {
   "cell_type": "markdown",
   "id": "b93b6f24-6521-4806-9bcb-fd79171b58fb",
   "metadata": {
    "tags": []
   },
   "source": [
    "# Python Basics: Getting Started"
   ]
  },
  {
   "cell_type": "markdown",
   "id": "2fb624c1-d722-4a6b-abcc-17d03d412a67",
   "metadata": {
    "tags": []
   },
   "source": [
    "## What is Python?"
   ]
  },
  {
   "cell_type": "markdown",
   "id": "4d17078f-0e8a-4d49-ab5f-aa47177bf9c5",
   "metadata": {},
   "source": [
    "The complicated answer is that Python is an [object oriented program](https://www.techtarget.com/searchapparchitecture/definition/object-oriented-programming-OOP), but what does that mean? What it means is that python is a program built around data and focuses on what the data is rather of what it does. Python allows you to turn data, no matter how large or small, into an object - creating it into something you can manipulate, change, and make useful for anything you need."
   ]
  },
  {
   "cell_type": "markdown",
   "id": "4ee6a451-61fd-4392-989e-806479ca2ff2",
   "metadata": {
    "tags": []
   },
   "source": [
    "## Intro to Data Types in Python"
   ]
  },
  {
   "cell_type": "markdown",
   "id": "0ae7ff7f-70fe-4e6c-8432-7c94188231c5",
   "metadata": {},
   "source": [
    "There are two groups of [basic data types](https://en.wikiversity.org/wiki/Python_Concepts/Basic_data_types) in python that make up its foundation - **Single Elements**( _one piece of information_) and **Collections**( _groups of things which can be single elements themselves, other collections, or a mix of both_)"
   ]
  },
  {
   "cell_type": "markdown",
   "id": "5dcdf5b8-3255-4890-85e2-8a41ef119a80",
   "metadata": {},
   "source": [
    "#### **Single Elements**\n",
    "* **Integers**: Whole numbers ranging from infinity to infinity, such as 1, 100, 2000,ect. They can't be decimals\n",
    "\n",
    "* **Floats**: These are usually decimals like 3.5 or 3.14\n",
    "\n",
    "* **Strings**: A set of letters, numbers or any non-numeric characters. Usually denoted by quotation marks around them   (\"  \")\n",
    "\n",
    "* **Booleans**: Binary variables (only has two possibe values like True or False, or 1 or 0)"
   ]
  },
  {
   "cell_type": "markdown",
   "id": "ca61cb97-3ff9-485c-a7d1-9e563231916d",
   "metadata": {},
   "source": [
    "#### **Collections**\n",
    "\n",
    "* **Lists**: This is a changeable sequence of data(you can change its order) and is contained by square brackets. *eg.``[10,20,30]``*\n",
    "\n",
    "* **Tuples**: This is an unchangeable sequence of values (you cant change the order) The parentheses makes it a tuple. *eg.``(10,20,30)``*\n",
    "\n",
    "* **Dictionaries**: Dictionaries contain a key and a value. The curly brackets and colons showing what a value is equal to define dictionaries. *eg.``{10:ten, 20:twenty, 30: banana}``*"
   ]
  },
  {
   "cell_type": "markdown",
   "id": "3c4bf80c-d43d-45e7-b87f-1ddfd41ba144",
   "metadata": {},
   "source": [
    "You will always deal with Single Elements when you code, but Lists and Dictionaries are the most popular of all Collections Data Types. These elements create the foundation for building and creating tools in python."
   ]
  },
  {
   "cell_type": "markdown",
   "id": "59a76a72-bc9a-42b4-9716-5dc7c7953a7c",
   "metadata": {
    "tags": []
   },
   "source": [
    "## Variables in Python (Objects)"
   ]
  },
  {
   "cell_type": "markdown",
   "id": "81e629c3-2788-4e82-9c9d-d0e06f637f28",
   "metadata": {},
   "source": [
    "Variables are names that are assigned to specific values or data. They are used to create new objects and store the properties of our elements. These names can be pretty much anything you want, but there are a few best practices that are important to follow"
   ]
  },
  {
   "cell_type": "markdown",
   "id": "37698b16-141e-47d7-b3e5-0721296486e3",
   "metadata": {},
   "source": [
    "#### Limitations:\n",
    "* You cant use just use numbers as variable names (1, 0.5, 1/2), but numbers can be included in the name\n",
    "* Names can't be the same as an already existing or default imported function (we'll talk about functions later)\n",
    "* Names cannot contain spaces"
   ]
  },
  {
   "cell_type": "markdown",
   "id": "81466f2c-d10a-4d57-bffd-6215539ca0dc",
   "metadata": {},
   "source": [
    "#### Best Practices\n",
    "* Names should be lowercase (python likes lowercase)\n",
    "* You should pick names that tell you about the values in the element/object. So instead of just naming a variable thats supposed to represent the price of shoes `feetwear`, you can call it `price_shoes` to indicate that this variable represents the price of shoes"
   ]
  },
  {
   "cell_type": "markdown",
   "id": "2812b4aa-4826-4674-85db-ee21f3133044",
   "metadata": {
    "jp-MarkdownHeadingCollapsed": true,
    "tags": []
   },
   "source": [
    "#### Creating Variables and Exploring Data Types"
   ]
  },
  {
   "cell_type": "markdown",
   "id": "16de163c-2f18-40ab-a7c9-76738d3b116b",
   "metadata": {},
   "source": [
    "Lets apply some of this knowledge and also go over some best/common practices in python. We will create variables and use a function called `type` to check our data types"
   ]
  },
  {
   "cell_type": "code",
   "execution_count": 105,
   "id": "3002a458-9b2a-48cb-98df-20049af2fc6d",
   "metadata": {},
   "outputs": [
    {
     "data": {
      "text/plain": [
       "int"
      ]
     },
     "execution_count": 105,
     "metadata": {},
     "output_type": "execute_result"
    }
   ],
   "source": [
    "#Assigning an integer. We will name our variable/object x\n",
    "x = 10\n",
    "#Find data type\n",
    "type(x)"
   ]
  },
  {
   "cell_type": "code",
   "execution_count": 23,
   "id": "0383d2e2-0701-445f-a9e4-ba0759b4a570",
   "metadata": {},
   "outputs": [
    {
     "data": {
      "text/plain": [
       "float"
      ]
     },
     "execution_count": 23,
     "metadata": {},
     "output_type": "execute_result"
    }
   ],
   "source": [
    "#Assigning a float. We will name our number y\n",
    "y = 1.5\n",
    "#Find data type\n",
    "type(y)"
   ]
  },
  {
   "cell_type": "markdown",
   "id": "47e575cd-94bf-4fef-a8a9-f11407185e8c",
   "metadata": {},
   "source": [
    "One important thing to also note is that you cannot have the same variable name for to different values. That will cause confusion, hence why we called our integer variable x and our float variable y"
   ]
  },
  {
   "cell_type": "code",
   "execution_count": 106,
   "id": "7ff326f0-081d-4e0f-8806-a0b18092ad34",
   "metadata": {},
   "outputs": [
    {
     "data": {
      "text/plain": [
       "str"
      ]
     },
     "execution_count": 106,
     "metadata": {},
     "output_type": "execute_result"
    }
   ],
   "source": [
    "#Assigning a string. We will name our number y\n",
    "a = 'name'\n",
    "#Find data type\n",
    "type(a)"
   ]
  },
  {
   "cell_type": "markdown",
   "id": "58464f33-d85e-4aff-af24-49f3fd2dd5cd",
   "metadata": {},
   "source": [
    "Also remember that when we assign variables, we aren't for example saying that 'a' equals name, we are saying that `a` as been assigned the value of the string 'name'."
   ]
  },
  {
   "cell_type": "markdown",
   "id": "ce36e049-d184-4a7f-bc74-2db8ba4b435b",
   "metadata": {
    "tags": []
   },
   "source": [
    "## Data Types Review "
   ]
  },
  {
   "cell_type": "markdown",
   "id": "b9573c15-1c14-40e9-9975-43067a30cf98",
   "metadata": {
    "tags": []
   },
   "source": [
    "#### Booleans "
   ]
  },
  {
   "cell_type": "markdown",
   "id": "9c6deb7b-9b01-4986-92e2-a9528ccf4f64",
   "metadata": {},
   "source": [
    "This is used to check if something is tru or false. \n",
    "Lets use comparisons to explore Booleans\n",
    "\n",
    "##### Comparisons\n",
    "- Less than: `<`\n",
    "- Greater than: `>`\n",
    "- Less than or equal to: `<=`\n",
    "- Greater than or equal to: `<=`\n",
    "- Equals: `==`\n",
    "- Does not equal: `!=`"
   ]
  },
  {
   "cell_type": "markdown",
   "id": "fc5333d0-6f38-4c42-95a0-9a7727b1cb0b",
   "metadata": {},
   "source": [
    "We will name our variable B and set it equal to the comparison below, print it and print the its data type"
   ]
  },
  {
   "cell_type": "code",
   "execution_count": 45,
   "id": "32276969-6000-4cf8-9276-e0e4792aecb4",
   "metadata": {},
   "outputs": [
    {
     "name": "stdout",
     "output_type": "stream",
     "text": [
      "True\n"
     ]
    },
    {
     "data": {
      "text/plain": [
       "bool"
      ]
     },
     "execution_count": 45,
     "metadata": {},
     "output_type": "execute_result"
    }
   ],
   "source": [
    "b = 2>1\n",
    "print(b)\n",
    "type(b)"
   ]
  },
  {
   "cell_type": "markdown",
   "id": "6eee7889-b71a-49ae-b37e-fea9f78cb02a",
   "metadata": {},
   "source": [
    "Lets try another one"
   ]
  },
  {
   "cell_type": "code",
   "execution_count": 43,
   "id": "f60470a7-af53-4e8b-93d9-3df678d024bf",
   "metadata": {},
   "outputs": [
    {
     "name": "stdout",
     "output_type": "stream",
     "text": [
      "False\n"
     ]
    },
    {
     "data": {
      "text/plain": [
       "bool"
      ]
     },
     "execution_count": 43,
     "metadata": {},
     "output_type": "execute_result"
    }
   ],
   "source": [
    "t = 2 < 1\n",
    "print(t)\n",
    "type(t)"
   ]
  },
  {
   "cell_type": "markdown",
   "id": "405205ac-20c8-443e-98fe-00c29bfc2346",
   "metadata": {},
   "source": [
    "Booleans simply tell us whether an argument is true or false"
   ]
  },
  {
   "cell_type": "markdown",
   "id": "7d46fed2-1a8f-423b-b875-b1248f37ee1f",
   "metadata": {
    "tags": []
   },
   "source": [
    "#### Numeric Data Types: Floats and Integers"
   ]
  },
  {
   "cell_type": "markdown",
   "id": "d45f7fe0-c673-4261-97c7-d55c175adc96",
   "metadata": {
    "tags": []
   },
   "source": [
    "##### Operations \n",
    "Python allows us to do mathematical operations. We will complete a few and use the print function to see what their results are."
   ]
  },
  {
   "cell_type": "code",
   "execution_count": 46,
   "id": "edfcad7d-0d90-4fa7-ba6f-52e6e878fceb",
   "metadata": {},
   "outputs": [
    {
     "name": "stdout",
     "output_type": "stream",
     "text": [
      "3\n",
      "-1\n",
      "2\n",
      "0.5\n"
     ]
    }
   ],
   "source": [
    "#Addition \n",
    "print(1 + 2)\n",
    "#Subtraction\n",
    "print(1 - 2)\n",
    "#Multiplication\n",
    "print(1 * 2)\n",
    "#Division\n",
    "print(1 / 2)"
   ]
  },
  {
   "cell_type": "code",
   "execution_count": null,
   "id": "86497cb4-373a-4086-9151-5b6746cf165d",
   "metadata": {},
   "outputs": [
    {
     "data": {
      "text/plain": [
       "2"
      ]
     },
     "execution_count": 47,
     "metadata": {},
     "output_type": "execute_result"
    }
   ],
   "source": [
    "# You can also use the % sign to get remainders\n",
    "5%3"
   ]
  },
  {
   "cell_type": "markdown",
   "id": "a015db94-085a-4eab-ad88-8ed2d45d4932",
   "metadata": {
    "tags": []
   },
   "source": [
    "#### Strings"
   ]
  },
  {
   "cell_type": "markdown",
   "id": "87174044-243f-457b-baef-c00ace8094f9",
   "metadata": {},
   "source": [
    "As mentioned before strings are pretty much any character combination ib betweek two quotes"
   ]
  },
  {
   "cell_type": "code",
   "execution_count": 53,
   "id": "757589e8-9617-4cd7-8584-66abe3b9ac0b",
   "metadata": {},
   "outputs": [
    {
     "data": {
      "text/plain": [
       "str"
      ]
     },
     "execution_count": 53,
     "metadata": {},
     "output_type": "execute_result"
    }
   ],
   "source": [
    "s = 'I love eating ice cream 2 times a day'\n",
    "type(s)"
   ]
  },
  {
   "cell_type": "markdown",
   "id": "49b684bb-d284-4a9b-8659-8358e1832058",
   "metadata": {},
   "source": [
    "##### String Indexing\n",
    "One thing to note is indexing in python. An index helps you find the position of an element or an item in a string or list of characters. It comes in handy for manipulating data. \n",
    "\n",
    "Lets take a look at how this looks like using our element s"
   ]
  },
  {
   "cell_type": "code",
   "execution_count": 50,
   "id": "0f962038-4480-4d39-a6ef-d237d54ee4b9",
   "metadata": {},
   "outputs": [
    {
     "data": {
      "text/plain": [
       "'I'"
      ]
     },
     "execution_count": 50,
     "metadata": {},
     "output_type": "execute_result"
    }
   ],
   "source": [
    "# We wnat to see what the first character in the string is.\n",
    "s[0]"
   ]
  },
  {
   "cell_type": "markdown",
   "id": "2b7e578a-38c5-4f74-840b-1eea67903217",
   "metadata": {},
   "source": [
    "As you can see, index 0  tells us that the first letter in our string is I. The number endered after the variable name in brackets is called the index. Another important thing to not is that when counting in Python, you must start at 0 not 1. "
   ]
  },
  {
   "cell_type": "code",
   "execution_count": 59,
   "id": "26aa2f78-9ce0-44f5-86fa-6ea09ab74d0a",
   "metadata": {},
   "outputs": [
    {
     "data": {
      "text/plain": [
       "'I love'"
      ]
     },
     "execution_count": 59,
     "metadata": {},
     "output_type": "execute_result"
    }
   ],
   "source": [
    "#What if we want the first 6 characters\n",
    "s[0:6]"
   ]
  },
  {
   "cell_type": "markdown",
   "id": "160468a2-f19b-4e0a-aecd-94fb9520af65",
   "metadata": {},
   "source": [
    "As you can see, even though we want the first 6 characters, we can only count 5. That is because our index also reads in spaces as part of the index."
   ]
  },
  {
   "cell_type": "code",
   "execution_count": 55,
   "id": "017b6e67-bb3a-4c94-aed6-3590554348d1",
   "metadata": {},
   "outputs": [
    {
     "data": {
      "text/plain": [
       "'I love eating ice cream 2 times a day'"
      ]
     },
     "execution_count": 55,
     "metadata": {},
     "output_type": "execute_result"
    }
   ],
   "source": [
    "#If we wanted to see the whole sentence we would index our variable like so:\n",
    "s[:]"
   ]
  },
  {
   "cell_type": "code",
   "execution_count": 61,
   "id": "2c1e4d50-70db-42e3-ab60-e8ab1b037fa1",
   "metadata": {},
   "outputs": [
    {
     "data": {
      "text/plain": [
       "'I love eating ice cream 2 times a day'"
      ]
     },
     "execution_count": 61,
     "metadata": {},
     "output_type": "execute_result"
    }
   ],
   "source": [
    "#Another way to see the whole sentence\n",
    "s[0:]"
   ]
  },
  {
   "cell_type": "code",
   "execution_count": 68,
   "id": "3bd8236f-fe18-43d4-a000-e68b7b41ad57",
   "metadata": {},
   "outputs": [
    {
     "data": {
      "text/plain": [
       "'y'"
      ]
     },
     "execution_count": 68,
     "metadata": {},
     "output_type": "execute_result"
    }
   ],
   "source": [
    "#Can we index right side?\n",
    "s[-1]"
   ]
  },
  {
   "cell_type": "markdown",
   "id": "bb4ffa56-82d8-4be8-b3c1-71a0cf8728d8",
   "metadata": {},
   "source": [
    "In addition to choosing a range of characters to see with indexing, you can also skip letters"
   ]
  },
  {
   "cell_type": "code",
   "execution_count": 69,
   "id": "d08784f6-73a1-42bc-9c7e-1f133b4c2f59",
   "metadata": {},
   "outputs": [
    {
     "data": {
      "text/plain": [
       "'Ilv a'"
      ]
     },
     "execution_count": 69,
     "metadata": {},
     "output_type": "execute_result"
    }
   ],
   "source": [
    "#We want every second character starting at 0 and ending at 10:\n",
    "s[0:10:2]"
   ]
  },
  {
   "cell_type": "code",
   "execution_count": 70,
   "id": "193920d4-71ef-4328-8982-d43a62d88b95",
   "metadata": {},
   "outputs": [
    {
     "data": {
      "text/plain": [
       "'Ilv aigiecem2tmsady'"
      ]
     },
     "execution_count": 70,
     "metadata": {},
     "output_type": "execute_result"
    }
   ],
   "source": [
    "#We want to skip every other character-have a step size of 2\n",
    "s[::2]"
   ]
  },
  {
   "cell_type": "markdown",
   "id": "5ccb8a14-6bb9-4a20-bb00-859e8298456b",
   "metadata": {
    "tags": []
   },
   "source": [
    "#### Lists"
   ]
  },
  {
   "cell_type": "markdown",
   "id": "a39c5d35-1775-4664-b311-5930322fd14e",
   "metadata": {},
   "source": [
    "As we discussed before, lists are composed of, ints, floats, strings, and even have other lists inside them as well. Lets create one."
   ]
  },
  {
   "cell_type": "code",
   "execution_count": 88,
   "id": "0f21af12-6b87-4527-9596-7f37adebce10",
   "metadata": {},
   "outputs": [
    {
     "name": "stdout",
     "output_type": "stream",
     "text": [
      "[1, 2, 3, 4]\n"
     ]
    }
   ],
   "source": [
    "#We will assign this list object as l and print the variable\n",
    "l = [1, 2, 3, 4]\n",
    "print(l)"
   ]
  },
  {
   "cell_type": "code",
   "execution_count": 89,
   "id": "7de24872-2599-4025-bd8e-ee4297745c36",
   "metadata": {},
   "outputs": [],
   "source": [
    "#We can also reassign it as another variable. \n",
    "a = l"
   ]
  },
  {
   "cell_type": "code",
   "execution_count": 75,
   "id": "60a3ffbd-ab95-4b10-a3df-1decd3faafdf",
   "metadata": {},
   "outputs": [
    {
     "name": "stdout",
     "output_type": "stream",
     "text": [
      "[1, 2, 3, 4]\n"
     ]
    }
   ],
   "source": [
    "print(a)"
   ]
  },
  {
   "cell_type": "code",
   "execution_count": 80,
   "id": "84cfc14b-f86f-4e27-af7b-77cd7f9b22c8",
   "metadata": {},
   "outputs": [],
   "source": [
    "#We can also have a list of strings \n",
    "names = ['Sabrina','Vivian', 'Tiffany', 'Chicago']"
   ]
  },
  {
   "cell_type": "code",
   "execution_count": 81,
   "id": "8f156fbe-9adc-446d-82f0-5f62a4ef8fc6",
   "metadata": {},
   "outputs": [
    {
     "name": "stdout",
     "output_type": "stream",
     "text": [
      "['Sabrina', 'Vivian', 'Tiffany', 'Chicago']\n"
     ]
    }
   ],
   "source": [
    "#lets print the variable\n",
    "print(names)"
   ]
  },
  {
   "cell_type": "markdown",
   "id": "c73e86f0-8de8-4877-83a1-14395f94ec6a",
   "metadata": {},
   "source": [
    "Lists can also be sliced just like integers"
   ]
  },
  {
   "cell_type": "code",
   "execution_count": 87,
   "id": "f98b64b0-71d5-4e16-9bcc-3b4b8c22c573",
   "metadata": {},
   "outputs": [
    {
     "data": {
      "text/plain": [
       "'Sabrina'"
      ]
     },
     "execution_count": 87,
     "metadata": {},
     "output_type": "execute_result"
    }
   ],
   "source": [
    "names[0]"
   ]
  },
  {
   "cell_type": "markdown",
   "id": "384089db-9d3b-454b-878f-5a4bf1726578",
   "metadata": {
    "jp-MarkdownHeadingCollapsed": true,
    "tags": []
   },
   "source": [
    "#### Tuple"
   ]
  },
  {
   "cell_type": "markdown",
   "id": "00e459e8-72f6-4c6f-a305-491cda213e63",
   "metadata": {},
   "source": [
    "As mentioned before, tuples are similar to lists but once they are reated, their values can't be changed. Here's an example. "
   ]
  },
  {
   "cell_type": "code",
   "execution_count": 90,
   "id": "d9d4215c-a334-40cd-939f-3da95731d21b",
   "metadata": {},
   "outputs": [
    {
     "name": "stdout",
     "output_type": "stream",
     "text": [
      "(18, 39)\n",
      "<class 'tuple'>\n"
     ]
    }
   ],
   "source": [
    "p = (18, 39)\n",
    "print(p)\n",
    "print(type(p))"
   ]
  },
  {
   "cell_type": "markdown",
   "id": "f838e49f-add3-4db8-83ef-44d683aeab3b",
   "metadata": {},
   "source": [
    "These can also be sliced with indexing just like strings and lists"
   ]
  },
  {
   "cell_type": "code",
   "execution_count": 96,
   "id": "e69eceec-5067-4b69-a4b3-b3bc4684b9bc",
   "metadata": {},
   "outputs": [
    {
     "data": {
      "text/plain": [
       "(18, 39)"
      ]
     },
     "execution_count": 96,
     "metadata": {},
     "output_type": "execute_result"
    }
   ],
   "source": [
    "p[0:3]"
   ]
  },
  {
   "cell_type": "markdown",
   "id": "c275d339-2b0e-4545-9c8d-180dcc18f3ee",
   "metadata": {
    "tags": []
   },
   "source": [
    "#### Dictionaries"
   ]
  },
  {
   "cell_type": "markdown",
   "id": "9d329149-d407-4230-8a9a-ef77d7778812",
   "metadata": {},
   "source": [
    "As mentioned dictionaries are non-ordered Python data type. Instead of using an ordered index to access data stored in a dictionary, it uses a system of key-value pairs. \n",
    "\n",
    "Dictionaries are helpfule when:\n",
    "- There are lots of elements and we dont want to remember which element number is which \n",
    "- When we don't care bout the order of things \n",
    "\n",
    "Lets look at an example of one."
   ]
  },
  {
   "cell_type": "code",
   "execution_count": 99,
   "id": "b751d2e3-aeb9-4f20-a8e3-04f9b5a9351e",
   "metadata": {},
   "outputs": [
    {
     "name": "stdout",
     "output_type": "stream",
     "text": [
      "<class 'dict'>\n",
      "{'code1': 4.5, 'code2': 1.5, 'code3': 2.5}\n"
     ]
    }
   ],
   "source": [
    "values = {'code1':4.5,\n",
    "          'code2':1.5,\n",
    "          'code3':2.5}\n",
    "print(type(values))\n",
    "print(values)"
   ]
  },
  {
   "cell_type": "markdown",
   "id": "32f12364-170d-43f4-a346-ca9f1e949bbd",
   "metadata": {},
   "source": [
    "As mentioned, the keys stay the same, but the values are changeable in several different ways. \n",
    "Lets change one of the keys to see what happens"
   ]
  },
  {
   "cell_type": "code",
   "execution_count": 100,
   "id": "5e3fd768-f233-4bf0-8949-e93e5ad8f0c0",
   "metadata": {},
   "outputs": [],
   "source": [
    "values['code1'] = 'price'"
   ]
  },
  {
   "cell_type": "code",
   "execution_count": 101,
   "id": "67987551-1d4f-44e3-8937-64ddf5fdbf0c",
   "metadata": {},
   "outputs": [
    {
     "name": "stdout",
     "output_type": "stream",
     "text": [
      "{'code1': 'price', 'code2': 1.5, 'code3': 2.5}\n"
     ]
    }
   ],
   "source": [
    "print(values)"
   ]
  },
  {
   "cell_type": "markdown",
   "id": "37187b56-05ed-4a79-85ee-7c139f64ba78",
   "metadata": {},
   "source": [
    "We can see that the value for code1 has been easily changed."
   ]
  },
  {
   "cell_type": "markdown",
   "id": "9e8b3267-842f-40a1-800f-558a2142eaa6",
   "metadata": {
    "tags": []
   },
   "source": [
    "## Control Flow "
   ]
  },
  {
   "cell_type": "markdown",
   "id": "00d47b0b-ca2a-4dac-a1c7-de41a3ce9bd8",
   "metadata": {},
   "source": [
    "The next sections will cover some common ways to design super efficient code in python. The first is the concept of control flow — with this we'll be able to return different results based on specific inputs. We will cover two main control flow structures - `if...else statements` and `for loops`"
   ]
  },
  {
   "cell_type": "markdown",
   "id": "ddd98003-134c-46aa-b549-1635587e40de",
   "metadata": {
    "tags": []
   },
   "source": [
    "### `if...else` Statements"
   ]
  },
  {
   "cell_type": "markdown",
   "id": "10a8ac50-ae36-4bf7-8571-b0138f9b1e5f",
   "metadata": {},
   "source": [
    "#### `if` Statement"
   ]
  },
  {
   "cell_type": "markdown",
   "id": "f02d604a-0245-4d50-838f-9d11cbda306c",
   "metadata": {},
   "source": [
    "An if statement is used for objects we can define as `True` or `False`. One very important thing to note about these statements and control flow in general is that indentation really matters. If your code is not indented properly it won't work the way it is intended. Lets look at an example"
   ]
  },
  {
   "cell_type": "markdown",
   "id": "67a00a90-690e-41d4-9722-05206208a3c0",
   "metadata": {},
   "source": [
    "For this example, we'll right a line of code that will ask our program to print a string if 4 is equal to 4 without any indentations and with indentations."
   ]
  },
  {
   "cell_type": "code",
   "execution_count": 11,
   "id": "e76f260b-96cf-4f52-b0ee-593010533dab",
   "metadata": {},
   "outputs": [
    {
     "ename": "IndentationError",
     "evalue": "expected an indented block (3409321928.py, line 2)",
     "output_type": "error",
     "traceback": [
      "\u001b[0;36m  File \u001b[0;32m\"/var/folders/0k/r3nvlvy97cgdhjrb4v697trw0000gn/T/ipykernel_52865/3409321928.py\"\u001b[0;36m, line \u001b[0;32m2\u001b[0m\n\u001b[0;31m    print('4 is definitely equal to 4')\u001b[0m\n\u001b[0m    ^\u001b[0m\n\u001b[0;31mIndentationError\u001b[0m\u001b[0;31m:\u001b[0m expected an indented block\n"
     ]
    }
   ],
   "source": [
    "if 4 == 4:\n",
    "print('4 is definitely equal to 4')"
   ]
  },
  {
   "cell_type": "markdown",
   "id": "a4bf2437-dddf-408b-9b2c-87e0a910ba66",
   "metadata": {},
   "source": [
    "Notice we get an error telling us that program exected and indentation right before the word print. Now lets do that and see what we get"
   ]
  },
  {
   "cell_type": "code",
   "execution_count": 13,
   "id": "cb4c9d30-7ae9-4c40-980d-47f1fc7709b5",
   "metadata": {},
   "outputs": [
    {
     "name": "stdout",
     "output_type": "stream",
     "text": [
      "4 is definitely equal to 4\n",
      "since this line is indented it will print next too\n"
     ]
    }
   ],
   "source": [
    "if 4 == 4:\n",
    "    print('4 is definitely equal to 4')\n",
    "    print('since this line is indented it will print next too')"
   ]
  },
  {
   "cell_type": "markdown",
   "id": "f67f8079-e1f2-476f-997d-16b27f1dbbfd",
   "metadata": {},
   "source": [
    "The last but definitely not least important thing to note is ending our if statement with a colon(:). Without this, your code won't run and you'll get an error"
   ]
  },
  {
   "cell_type": "code",
   "execution_count": 14,
   "id": "3a7f3d4f-a623-4b65-8ebd-68bcdbfa86ec",
   "metadata": {},
   "outputs": [
    {
     "ename": "SyntaxError",
     "evalue": "invalid syntax (876376954.py, line 1)",
     "output_type": "error",
     "traceback": [
      "\u001b[0;36m  File \u001b[0;32m\"/var/folders/0k/r3nvlvy97cgdhjrb4v697trw0000gn/T/ipykernel_52865/876376954.py\"\u001b[0;36m, line \u001b[0;32m1\u001b[0m\n\u001b[0;31m    if 4 == 4\u001b[0m\n\u001b[0m             ^\u001b[0m\n\u001b[0;31mSyntaxError\u001b[0m\u001b[0;31m:\u001b[0m invalid syntax\n"
     ]
    }
   ],
   "source": [
    "if 4 == 4\n",
    "    print('4 is definitely equal to 4')\n",
    "    print('since this line is indented it will print next too')"
   ]
  },
  {
   "cell_type": "markdown",
   "id": "007d5175-d2b8-4d74-9b4b-449fdd271a31",
   "metadata": {},
   "source": [
    "#### `if...else` statement"
   ]
  },
  {
   "cell_type": "markdown",
   "id": "f0079c92-d64f-4aa1-873d-aa842efcf02f",
   "metadata": {},
   "source": [
    "Most times, you will want to run some code for when the expression is equal to `True` AND when it is equal to `False`. This is done by adding `else` to our `if` statement. Note how it is at the same indentation level as the `if` statement, followed by a colon, followed by a code block. Let's see it in action."
   ]
  },
  {
   "cell_type": "markdown",
   "id": "a45cc3bb-950e-4b7b-9ba8-e30a9484c61d",
   "metadata": {},
   "source": [
    "For this example we will create an if statement that will evaluate whether a GPA is greater or less than a 2.5. A gpa greater than 2.5 will be considered good while a gpa less than 2.8 will be considered one that could....use some work. Change the gpa value a few times to see how your code responds"
   ]
  },
  {
   "cell_type": "code",
   "execution_count": 34,
   "id": "69259208-4180-4375-8167-44b426e613c6",
   "metadata": {},
   "outputs": [
    {
     "name": "stdout",
     "output_type": "stream",
     "text": [
      "This gpa could use some work\n"
     ]
    }
   ],
   "source": [
    "#First create an object called GPA and give it a value\n",
    "gpa = 2.0\n",
    "\n",
    "#Now lets create our if else statement\n",
    "if gpa > 2.8:\n",
    "    print('This is an okay gpa')\n",
    "else:\n",
    "    print('This gpa could use some work')"
   ]
  },
  {
   "cell_type": "markdown",
   "id": "6d073101-1f49-40b2-88fe-7b0f84e522e2",
   "metadata": {},
   "source": [
    "#### `if` ... `elif` ... `else`"
   ]
  },
  {
   "cell_type": "markdown",
   "id": "0165898c-1147-424b-a897-7d7882fb01c5",
   "metadata": {},
   "source": [
    "Simple `if..else` statements allow us to run code on two conditons, but what if we'd like to run a code based on more conditions that that? This is were `if`..`elif`..`else` statements would come in\n",
    "\n",
    "`elif` stands for `else if`. It belongs on a line between the initial `if` statement and an (optional) `else`. Lets test it out. Be sure to change the input for your gpa object to see how your code behaves"
   ]
  },
  {
   "cell_type": "code",
   "execution_count": 35,
   "id": "013f3698-9358-43a0-a629-ff2a4c30ee04",
   "metadata": {},
   "outputs": [
    {
     "name": "stdout",
     "output_type": "stream",
     "text": [
      "Your gpa is a little low.\n",
      "Have you considered tutoring?\n"
     ]
    }
   ],
   "source": [
    "gpa = 2.5\n",
    "\n",
    "if gpa > 3.6:\n",
    "    print('This is an exceptional gpa')\n",
    "elif gpa > 3.2:\n",
    "    print('This is a good gpa')\n",
    "elif gpa > 2.8:\n",
    "    print('This is an okay gpa')\n",
    "else:\n",
    "    print('Your gpa is a little low.')\n",
    "    print('Have you considered tutoring?')"
   ]
  },
  {
   "cell_type": "markdown",
   "id": "7182129b-eeed-4fa1-b2e4-41c66c425a08",
   "metadata": {},
   "source": [
    "This code works by evaluating each condition in order. If a condition evaluates to `True`, the rest are skipped. This allows us to capture many different conditions in one block of code. "
   ]
  },
  {
   "cell_type": "markdown",
   "id": "11e93739-ab1a-421f-99a6-05e616866b57",
   "metadata": {
    "tags": []
   },
   "source": [
    "### `for` Loops"
   ]
  },
  {
   "cell_type": "markdown",
   "id": "51fe4079-55c7-448d-bc00-2f5bbcb592e9",
   "metadata": {},
   "source": [
    "One of the biggest reasons people this programming language is to automate things repetitive tasks. One foundation of automation in python is the `for loop`\n",
    "\n",
    "The `for loop` allows you to perform a task repeatedly on every element within an object, such as every name in a list.\n",
    "\n",
    "This is an example of a `for loop` structure(pseudocode):\n",
    "\n",
    "```python\n",
    "# For each individual object in the list\n",
    "    # perform task_A on said object.\n",
    "    # Once task_A has been completed, move to next object in the list.\n",
    "```\n",
    "\n",
    "Say we wanted to print each of the names in a list, as well as \"is really cool!\" to each one to create a sentence. In this case, we'd create a temporary variable for each element in the collection (`for name in names` would put each name, in sequence, under the temporary variable `name`) and then do something with it. Lets test it out"
   ]
  },
  {
   "cell_type": "code",
   "execution_count": 59,
   "id": "a9c99aff-91e1-41a8-9b2f-0943c5dd0521",
   "metadata": {},
   "outputs": [
    {
     "name": "stdout",
     "output_type": "stream",
     "text": [
      "Cole is really cool!\n",
      "Sabrina is really cool!\n",
      "Tiffany is really cool!\n",
      "Vivian is really cool!\n",
      "Jasmine is really cool!\n"
     ]
    }
   ],
   "source": [
    "#Lets first create our list \n",
    "names = ['Cole','Sabrina','Tiffany','Vivian','Jasmine']\n",
    "\n",
    "#Now lets create a forloop to add 'is really cool!' to each name\n",
    "for name in names:\n",
    "    print(name + ' '+ 'is really cool!')"
   ]
  },
  {
   "cell_type": "markdown",
   "id": "b21534db-4117-4596-b689-820f36641d2f",
   "metadata": {},
   "source": [
    "You can also include `if statements` in for loops"
   ]
  },
  {
   "cell_type": "code",
   "execution_count": 49,
   "id": "b6231baf-ebc3-41dc-92c7-2355c7572c98",
   "metadata": {},
   "outputs": [
    {
     "name": "stdout",
     "output_type": "stream",
     "text": [
      "Cole is my boyfriend\n",
      "Sabrina is my best friend\n",
      "Tiffany is my friend\n",
      "Vivian is my friend\n",
      "Jasmine is my friend\n"
     ]
    }
   ],
   "source": [
    "for name in names:\n",
    "    if name == 'Sabrina':\n",
    "        print(name + ' ' + 'is my best friend')\n",
    "    elif name == 'Cole':\n",
    "        print(name + ' ' + 'is my boyfriend')\n",
    "    else:\n",
    "        print(name + ' '+ 'is my friend')"
   ]
  },
  {
   "cell_type": "markdown",
   "id": "c3d49de1-fd49-46d2-90a9-dcab964ff518",
   "metadata": {},
   "source": [
    "The `for loop` is a simple but crucially important syntax in python that is important to master. "
   ]
  },
  {
   "cell_type": "code",
   "execution_count": null,
   "id": "2d7d6c70-82f5-4008-b4f6-35870bf051e5",
   "metadata": {},
   "outputs": [],
   "source": []
  },
  {
   "cell_type": "markdown",
   "id": "4633b068-b453-41ef-b4cc-2430e36d5e21",
   "metadata": {
    "jp-MarkdownHeadingCollapsed": true,
    "tags": []
   },
   "source": [
    "## Functions in Python"
   ]
  },
  {
   "cell_type": "markdown",
   "id": "6d233c30-8e7c-49f3-8a60-0f4d2cf67baa",
   "metadata": {},
   "source": [
    "Functions are blocks of code that performs a very specific task. They make manipulating data in python easier, especially if you need to do a specific task several times over and over again. Python has many built in functions (*Standard library functions*) but it also allows you to create functions (*User defined functions*) as well. Lets first go over common functions and then we will create our own function.   "
   ]
  },
  {
   "cell_type": "markdown",
   "id": "de81e252-1684-412f-b49a-da7bc3ef1f2c",
   "metadata": {
    "jp-MarkdownHeadingCollapsed": true,
    "tags": []
   },
   "source": [
    "### Some Common Functions"
   ]
  },
  {
   "cell_type": "markdown",
   "id": "df50ee78-d6f5-47e9-a4ab-8883340fcc3b",
   "metadata": {
    "jp-MarkdownHeadingCollapsed": true,
    "tags": []
   },
   "source": [
    "#### print()\n",
    "At this point you should have seen this function several times from the beginning of this workbook. This prints the text of an object to the screen. "
   ]
  },
  {
   "cell_type": "code",
   "execution_count": 107,
   "id": "665e04df-3df8-4194-9706-62a7f87c5d49",
   "metadata": {},
   "outputs": [
    {
     "name": "stdout",
     "output_type": "stream",
     "text": [
      "i love cheese\n"
     ]
    }
   ],
   "source": [
    "print('i love cheese')"
   ]
  },
  {
   "cell_type": "code",
   "execution_count": 110,
   "id": "83c8bde0-963f-45a1-937e-75b3dca43eab",
   "metadata": {},
   "outputs": [
    {
     "name": "stdout",
     "output_type": "stream",
     "text": [
      "[2, 3, 5, 7, 8, 10]\n"
     ]
    }
   ],
   "source": [
    "n = [2,3,5,7,8,10]\n",
    "\n",
    "print(n)"
   ]
  },
  {
   "cell_type": "markdown",
   "id": "9c9f0988-4ca1-4a96-a6be-a4e55c82ca8f",
   "metadata": {
    "jp-MarkdownHeadingCollapsed": true,
    "tags": []
   },
   "source": [
    "#### type()\n",
    "This is another common function used to show data types of an object"
   ]
  },
  {
   "cell_type": "code",
   "execution_count": 111,
   "id": "6b28197a-fb4c-4eef-b13a-766d803deaa6",
   "metadata": {},
   "outputs": [
    {
     "data": {
      "text/plain": [
       "str"
      ]
     },
     "execution_count": 111,
     "metadata": {},
     "output_type": "execute_result"
    }
   ],
   "source": [
    "type('i love cheese')"
   ]
  },
  {
   "cell_type": "code",
   "execution_count": 112,
   "id": "52772e9d-9018-431c-907a-fb52d0770144",
   "metadata": {},
   "outputs": [
    {
     "data": {
      "text/plain": [
       "list"
      ]
     },
     "execution_count": 112,
     "metadata": {},
     "output_type": "execute_result"
    }
   ],
   "source": [
    "type(n)"
   ]
  },
  {
   "cell_type": "code",
   "execution_count": 113,
   "id": "41b4d0eb-283e-4700-abf9-b7d2f2dd54bd",
   "metadata": {},
   "outputs": [
    {
     "data": {
      "text/plain": [
       "float"
      ]
     },
     "execution_count": 113,
     "metadata": {},
     "output_type": "execute_result"
    }
   ],
   "source": [
    "type(1.5)"
   ]
  },
  {
   "cell_type": "markdown",
   "id": "b3aa2c99-8789-425e-aae0-07e2b5f8977e",
   "metadata": {
    "jp-MarkdownHeadingCollapsed": true,
    "tags": []
   },
   "source": [
    "#### len()\n",
    "This function will tell you how many elements there are in an object"
   ]
  },
  {
   "cell_type": "code",
   "execution_count": 115,
   "id": "9dd3ae94-aa0d-4aa6-8300-65f627a74b2b",
   "metadata": {},
   "outputs": [
    {
     "data": {
      "text/plain": [
       "6"
      ]
     },
     "execution_count": 115,
     "metadata": {},
     "output_type": "execute_result"
    }
   ],
   "source": [
    "#show us how many elements there are in list n\n",
    "len(n)"
   ]
  },
  {
   "cell_type": "code",
   "execution_count": 116,
   "id": "5037700c-b989-444d-8fcb-32a42f8485df",
   "metadata": {},
   "outputs": [
    {
     "data": {
      "text/plain": [
       "13"
      ]
     },
     "execution_count": 116,
     "metadata": {},
     "output_type": "execute_result"
    }
   ],
   "source": [
    "#show us how many characters there are in this string\n",
    "len('i love cheese')"
   ]
  },
  {
   "cell_type": "markdown",
   "id": "a22fcb4d-e2e3-43ca-b83f-0d9577307c4b",
   "metadata": {
    "jp-MarkdownHeadingCollapsed": true,
    "tags": []
   },
   "source": [
    "#### .replace()\n",
    "This is used usually to replace words and phrases in string objects. All occurences of the word througout the string object you pass it through will be replaced"
   ]
  },
  {
   "cell_type": "code",
   "execution_count": 125,
   "id": "4ec21135-b3a8-4890-9b9b-5c8cbf75c6a0",
   "metadata": {},
   "outputs": [
    {
     "name": "stdout",
     "output_type": "stream",
     "text": [
      "i love cheese\n"
     ]
    }
   ],
   "source": [
    "#creating a string object\n",
    "string = \"i love cheese\"\n",
    "print(string)"
   ]
  },
  {
   "cell_type": "code",
   "execution_count": 127,
   "id": "230b8a92-a65b-484c-a0d9-321c23fe025b",
   "metadata": {},
   "outputs": [
    {
     "name": "stdout",
     "output_type": "stream",
     "text": [
      "i hate cheese\n"
     ]
    }
   ],
   "source": [
    "#replacing the word love with hate \n",
    "new_string = string.replace('love','hate')\n",
    "#print new string\n",
    "print(new_string)"
   ]
  },
  {
   "cell_type": "markdown",
   "id": "8b72a29a-9c98-4596-8b9b-c60a2a3b90a0",
   "metadata": {
    "jp-MarkdownHeadingCollapsed": true,
    "tags": []
   },
   "source": [
    "#### .remove()\n",
    "This is a function for lists that removes elements in a list you would like to get rid off"
   ]
  },
  {
   "cell_type": "code",
   "execution_count": 135,
   "id": "b5c68b98-e87a-4bf4-993a-3027ad6595e5",
   "metadata": {},
   "outputs": [
    {
     "name": "stdout",
     "output_type": "stream",
     "text": [
      "['strawberry', 'blueberries', 'grapefruit', 'cherry']\n"
     ]
    }
   ],
   "source": [
    "fruits = ['strawberry','blueberries','grapefruit','cherry']\n",
    "print(fruits)"
   ]
  },
  {
   "cell_type": "code",
   "execution_count": 136,
   "id": "a8a0f072-4b40-4942-b7cd-e226a1896ba5",
   "metadata": {},
   "outputs": [],
   "source": [
    "fruits.remove('strawberry')"
   ]
  },
  {
   "cell_type": "code",
   "execution_count": 137,
   "id": "a0380613-b0be-4f54-897d-d7ba5ba3ab59",
   "metadata": {},
   "outputs": [
    {
     "name": "stdout",
     "output_type": "stream",
     "text": [
      "['blueberries', 'grapefruit', 'cherry']\n"
     ]
    }
   ],
   "source": [
    "print(fruits)"
   ]
  },
  {
   "cell_type": "markdown",
   "id": "8c1bf6c7-2ff3-446e-a12c-42735a057477",
   "metadata": {
    "jp-MarkdownHeadingCollapsed": true,
    "tags": []
   },
   "source": [
    "#### .append()\n",
    "This is a function used to add a new element to an existing list. We'll use our fruits list to show its capabilities"
   ]
  },
  {
   "cell_type": "code",
   "execution_count": 138,
   "id": "36366f02-27f5-4d3e-a4d3-16523eec50ba",
   "metadata": {},
   "outputs": [
    {
     "name": "stdout",
     "output_type": "stream",
     "text": [
      "['blueberries', 'grapefruit', 'cherry']\n"
     ]
    }
   ],
   "source": [
    "#current fruits list\n",
    "print(fruits)"
   ]
  },
  {
   "cell_type": "code",
   "execution_count": 141,
   "id": "af8ac604-90b5-42b0-aa4d-a8b82f6b2d3c",
   "metadata": {},
   "outputs": [
    {
     "name": "stdout",
     "output_type": "stream",
     "text": [
      "['blueberries', 'grapefruit', 'cherry', 'banana', 'banana', 'banana']\n"
     ]
    }
   ],
   "source": [
    "#We should see that banana has been added to the list \n",
    "fruits.append('banana')\n",
    "print(fruits)"
   ]
  },
  {
   "cell_type": "markdown",
   "id": "0c3dd592-3478-4865-97dc-e7f32f062a5b",
   "metadata": {
    "jp-MarkdownHeadingCollapsed": true,
    "tags": []
   },
   "source": [
    "### How to create your own functions in Python"
   ]
  },
  {
   "cell_type": "markdown",
   "id": "e684f780-e595-4151-b85a-5f743c5037e7",
   "metadata": {},
   "source": [
    "As said before, Python gives you the ability to create functions and this is one of the most important skills when coding and building in the program. The syntax and the structure of functions is:"
   ]
  },
  {
   "cell_type": "code",
   "execution_count": 151,
   "id": "3ee27764-21e5-404b-aa48-32a0b637cd74",
   "metadata": {},
   "outputs": [],
   "source": [
    "def function_name(parameters):\n",
    "    #function body\n",
    "    return"
   ]
  },
  {
   "cell_type": "markdown",
   "id": "0b1f5f66-0124-4c30-a546-4a54514034fe",
   "metadata": {},
   "source": [
    "`def` - keyword used to declare a function\n",
    "\n",
    "`function_name` - the name you will give your function\n",
    "\n",
    "`parameters` - the values you will be passing through your function\n",
    "\n",
    "`return` - this returns a value from a function, makes we can call our funtion using what we built inside it"
   ]
  },
  {
   "cell_type": "markdown",
   "id": "5cb931ba-1821-4afc-9255-ebc4c6985a97",
   "metadata": {},
   "source": [
    "Lets create a simple function. This function will be called greet"
   ]
  },
  {
   "cell_type": "code",
   "execution_count": 153,
   "id": "30cfab05-64a5-4278-983d-864480bfce4f",
   "metadata": {},
   "outputs": [],
   "source": [
    "#funtion_name is greet \n",
    "#We have no parameters for this function\n",
    "#The body of our function will print an introduction\n",
    "def greet():\n",
    "    print('Hello! My name is Annette')\n",
    "    return"
   ]
  },
  {
   "cell_type": "markdown",
   "id": "1f94d07a-2345-44be-ad72-fb0f550f88b4",
   "metadata": {},
   "source": [
    "Now that we have created our function, we now have to call it"
   ]
  },
  {
   "cell_type": "code",
   "execution_count": 155,
   "id": "ea390fbe-b7f2-457e-8b9b-7aa098d9159d",
   "metadata": {},
   "outputs": [
    {
     "name": "stdout",
     "output_type": "stream",
     "text": [
      "Hello! My name is Annette\n"
     ]
    }
   ],
   "source": [
    "greet()"
   ]
  },
  {
   "cell_type": "markdown",
   "id": "c25c804e-8164-4113-ae65-e6d5458cc4ef",
   "metadata": {},
   "source": [
    "Lets create another function that will allow us to create phrases "
   ]
  },
  {
   "cell_type": "code",
   "execution_count": 168,
   "id": "66cefab7-10dd-4741-986a-f9054f82f059",
   "metadata": {},
   "outputs": [],
   "source": [
    "#function_name is  phrase\n",
    "#parameters will be word_1 and word_2, strings\n",
    "#For the body we'll create an object called combine which will allow us to add our words. We'll add a space between the words\n",
    "#We will return our object so it exists outide the function\n",
    "def phrase(word_1, word_2):\n",
    "    combine = word_1 + ' ' + word_2\n",
    "    return combine"
   ]
  },
  {
   "cell_type": "code",
   "execution_count": 169,
   "id": "41008c56-b040-47e4-b259-e0abbea7e013",
   "metadata": {},
   "outputs": [
    {
     "data": {
      "text/plain": [
       "'dream big'"
      ]
     },
     "execution_count": 169,
     "metadata": {},
     "output_type": "execute_result"
    }
   ],
   "source": [
    "#Now lets choose two strings(words) we'd like to combine into a phrase and pass them through our function\n",
    "phrase('dream','big')"
   ]
  },
  {
   "cell_type": "markdown",
   "id": "094071a0-1518-4892-919e-51949e41f033",
   "metadata": {},
   "source": [
    "Lets create a function wich will allow us to add, multiply, and subtract numbers"
   ]
  },
  {
   "cell_type": "code",
   "execution_count": 172,
   "id": "9747d3ef-a72b-46a3-86db-9f13807985b4",
   "metadata": {},
   "outputs": [],
   "source": [
    "def numeric(num1, num2):\n",
    "    add = num1 + num2 \n",
    "    product = num1 * num2\n",
    "    difference = num1 - num2\n",
    "    return add, product, difference"
   ]
  },
  {
   "cell_type": "code",
   "execution_count": 173,
   "id": "5859962c-837c-484c-a446-2c6bf929b872",
   "metadata": {},
   "outputs": [
    {
     "data": {
      "text/plain": [
       "(25, 100, 15)"
      ]
     },
     "execution_count": 173,
     "metadata": {},
     "output_type": "execute_result"
    }
   ],
   "source": [
    "numeric(20,5)"
   ]
  },
  {
   "cell_type": "markdown",
   "id": "b7d87be7-834c-4380-b7bc-e37e432e4dbd",
   "metadata": {},
   "source": [
    "The real power of functions is that once they are created, they can be called anytime to manipulate and change data - making them one of the most efficient ways to cut down on time when coding.\n",
    "To show their power lets create a few lists of names. We will then create a function that will append the string 'is cool' to each name in a specified list. We will include a `for loop` in this function"
   ]
  },
  {
   "cell_type": "code",
   "execution_count": 101,
   "id": "a7477ccb-34ff-4dc5-8140-8bb86679d91e",
   "metadata": {},
   "outputs": [],
   "source": [
    "# Different lists with different names\n",
    "list_1 = ['Tiffany', 'Maggie', 'Cole']\n",
    "list_2 = ['Sabrina', 'Vivian', 'Braceros']\n",
    "list_3 = ['Kevin', 'Aimee', 'Angel']"
   ]
  },
  {
   "cell_type": "code",
   "execution_count": 102,
   "id": "468c147c-9536-44df-94b5-337fab4cace9",
   "metadata": {},
   "outputs": [],
   "source": [
    "#function_name will be called cool\n",
    "#In the function we will have a forloop that will add \"is cool\" to each name in a string\n",
    "def cool(input_list):\n",
    "    for i in input_list:\n",
    "        print(i + ' is cool')\n",
    "    return"
   ]
  },
  {
   "cell_type": "code",
   "execution_count": 103,
   "id": "9fc2c960-f8bf-4482-8f7a-07d323237afc",
   "metadata": {},
   "outputs": [
    {
     "name": "stdout",
     "output_type": "stream",
     "text": [
      "Tiffany is cool\n",
      "Maggie is cool\n",
      "Cole is cool\n"
     ]
    }
   ],
   "source": [
    "#Lets test our function on a list. Switch out the list name to see how our function behaves\n",
    "cool(list_1)"
   ]
  },
  {
   "cell_type": "code",
   "execution_count": 104,
   "id": "e3fc53ef-12cb-443b-930f-0b46f10a5191",
   "metadata": {},
   "outputs": [
    {
     "name": "stdout",
     "output_type": "stream",
     "text": [
      "Sabrina is cool\n",
      "Vivian is cool\n",
      "Braceros is cool\n"
     ]
    }
   ],
   "source": [
    "cool(list_2)"
   ]
  },
  {
   "cell_type": "code",
   "execution_count": 106,
   "id": "8b45bc9d-33c5-4106-8c28-5ac7476603e6",
   "metadata": {},
   "outputs": [
    {
     "name": "stdout",
     "output_type": "stream",
     "text": [
      "Kevin is cool\n",
      "Aimee is cool\n",
      "Angel is cool\n"
     ]
    }
   ],
   "source": [
    "cool(list_3)"
   ]
  },
  {
   "cell_type": "markdown",
   "id": "7e61c94d-891d-4826-856f-93f0937ae1b0",
   "metadata": {},
   "source": [
    "Just as we can include `for loops` in function, we can also include `if else` statements. In python, everything builds of each other. Lets create another function that will "
   ]
  },
  {
   "cell_type": "code",
   "execution_count": 119,
   "id": "e4e93971-71b5-4198-9869-f6b2b7155cd8",
   "metadata": {},
   "outputs": [],
   "source": [
    "def description(list_name):\n",
    "    for i in (list_name):\n",
    "        if i[0] == 'A':\n",
    "            print(i + ' is a beautiful name')\n",
    "        elif i[0] == 'C':\n",
    "            print(i + ' is a familiar name')\n",
    "        else:\n",
    "            print(i + ' is a nice name')\n",
    "    return"
   ]
  },
  {
   "cell_type": "code",
   "execution_count": 120,
   "id": "a8533bec-6f74-4e66-8edd-01edb62274b1",
   "metadata": {},
   "outputs": [
    {
     "name": "stdout",
     "output_type": "stream",
     "text": [
      "Sabrina is a nice name\n",
      "Vivian is a nice name\n",
      "Braceros is a nice name\n"
     ]
    }
   ],
   "source": [
    "description(names_2) "
   ]
  },
  {
   "cell_type": "markdown",
   "id": "fffb74cb-4d25-4190-98b0-31c164a96a63",
   "metadata": {
    "jp-MarkdownHeadingCollapsed": true,
    "tags": []
   },
   "source": [
    "### Throw-Aways "
   ]
  },
  {
   "cell_type": "code",
   "execution_count": 142,
   "id": "f90547c0-53aa-41e0-b356-d4889c70e5f1",
   "metadata": {},
   "outputs": [
    {
     "name": "stdout",
     "output_type": "stream",
     "text": [
      "1\n",
      "2\n",
      "Fizz\n",
      "4\n",
      "Buzz\n",
      "Fizz\n",
      "7\n",
      "8\n",
      "Fizz\n",
      "Buzz\n",
      "11\n",
      "Fizz\n",
      "13\n",
      "14\n",
      "Fizz\n",
      "16\n",
      "17\n",
      "Fizz\n",
      "19\n",
      "Buzz\n"
     ]
    }
   ],
   "source": [
    "for n in range(1,21):\n",
    "    string = ' '\n",
    "    if n%3==0 and n%5==0:\n",
    "        string = 'Fizzbuzz'\n",
    "    if n%5==0:\n",
    "        string =  'Buzz'\n",
    "    if n%3==0:\n",
    "        string =  'Fizz'\n",
    "    if n%3 !=0 and n%5 !=0:\n",
    "        string =  str(n)\n",
    "    print(string)"
   ]
  },
  {
   "cell_type": "code",
   "execution_count": null,
   "id": "a1cdd4d6-edd1-45de-a40c-d1cdff24897e",
   "metadata": {},
   "outputs": [],
   "source": []
  },
  {
   "cell_type": "code",
   "execution_count": null,
   "id": "cf0ed2b6-fb8b-46d0-bdc5-2b47339f7537",
   "metadata": {},
   "outputs": [],
   "source": []
  },
  {
   "cell_type": "code",
   "execution_count": null,
   "id": "1073b186-b88c-445c-b2a4-1e8159950f15",
   "metadata": {},
   "outputs": [],
   "source": []
  },
  {
   "cell_type": "code",
   "execution_count": null,
   "id": "e6a1d056-3c2b-4664-82fa-01d69ff7369b",
   "metadata": {},
   "outputs": [],
   "source": []
  }
 ],
 "metadata": {
  "kernelspec": {
   "display_name": "Python 3 (ipykernel)",
   "language": "python",
   "name": "python3"
  },
  "language_info": {
   "codemirror_mode": {
    "name": "ipython",
    "version": 3
   },
   "file_extension": ".py",
   "mimetype": "text/x-python",
   "name": "python",
   "nbconvert_exporter": "python",
   "pygments_lexer": "ipython3",
   "version": "3.9.13"
  }
 },
 "nbformat": 4,
 "nbformat_minor": 5
}
