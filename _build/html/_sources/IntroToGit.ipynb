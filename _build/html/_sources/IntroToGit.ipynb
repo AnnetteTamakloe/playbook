{
 "cells": [
  {
   "cell_type": "markdown",
   "id": "eb55cd79-5536-4d79-8475-f7ef744ecfd2",
   "metadata": {
    "tags": []
   },
   "source": [
    "# Git and Github"
   ]
  },
  {
   "cell_type": "markdown",
   "id": "0d47e34a-735e-4525-a251-00d13455c5a8",
   "metadata": {},
   "source": [
    "Git and Github are a must know for programming. This section will cover: \n",
    "- 1. The difference between Git and GitHub\n",
    "- 2. Installing Git and Creating a GitHub account\n",
    "- 3. Using Git and GitHub for personal projects\n",
    "- 4. Using Git and GitHub for collaboration"
   ]
  },
  {
   "cell_type": "markdown",
   "id": "90f6d9d0-656c-433c-a83d-42816a1624bb",
   "metadata": {
    "jp-MarkdownHeadingCollapsed": true,
    "tags": []
   },
   "source": [
    "### What is Git?\n",
    "[Git](https://git-scm.com/) is a program you can run from the command line. it comes pre-installed on all Linux based machines and Macbooks. If you have a Windows PC you have to download it. Programmers use git so that they can keep a history of all changes made to their code. This means that they can roll back changes as far back as when they started using git with their project. Folders in git are referred to as a **repository**, or **repo**, for short. Directories, repositories, and folders pretty much mean the same thing in the world of programming.\n",
    "\n",
    "#### Install Git\n",
    "Follow these instructions to download git: \n",
    "\n",
    "**For Windows**  \n",
    "- 1. Install [Git Bash](https://git-for-windows.github.io/)\n",
    "\n",
    "**For Macbooks**: Git should come pre-installed if you have a Macbook or a Linux based machine but if you need to download it, follow these steps:\n",
    "- 1. Install [Homebrew](http://brew.sh/)\n",
    "- 2. Go to the command line after installing Homebrew\n",
    "- 3. After installing Homebrew, type `brew install git` in the command line"
   ]
  },
  {
   "cell_type": "markdown",
   "id": "ce14616c-2d40-47d5-980c-43eee5154250",
   "metadata": {
    "jp-MarkdownHeadingCollapsed": true,
    "tags": []
   },
   "source": [
    "### What is GitHub?\n",
    "[GitHub](https://github.com/) is an application of GitHub. It is essentially the _public_, 'Social Network' for programming and programmers. You can share folders on your computer publically and make it available for all to see and potentially use. Its the perfect place to show your work, track your projects/code and collaborate with other people interested in programming. Before moving forward, join the programming geekdom and create a [GitHub](https://github.com/) account."
   ]
  },
  {
   "cell_type": "markdown",
   "id": "91ff2439-8f08-43b0-98f0-4fb73a8d3202",
   "metadata": {
    "tags": []
   },
   "source": [
    "### How to Use Git for Your Projects"
   ]
  },
  {
   "cell_type": "markdown",
   "id": "ded012c6-6d04-4321-b634-0d2a30c7e896",
   "metadata": {},
   "source": [
    "Before getting into git basics, lets open the command line and use the following commands to create a new folder and a new file:\n",
    "1. Open Terminal\n",
    "2. Command to create a new folder:\n",
    "    - `mkdir practice`\n",
    "3. Make the folder your new directory\n",
    "    - `cd practice`\n",
    "4. Create a new text file called 'a' in your folder\n",
    "    - For Mac: `touch a.txt`\n",
    "    - For Windows: `echo a.txt`\n",
    "5. Make sure the new file is there:\n",
    "    - For Mac: `ls`\n",
    "    - For Windows: `dir`"
   ]
  },
  {
   "cell_type": "markdown",
   "id": "812bb288-8fda-43cd-9e94-28d14c959f1e",
   "metadata": {},
   "source": [
    "![whatpracticeshouldlooklike.png](whatpracticeshouldlooklike.png)"
   ]
  },
  {
   "cell_type": "markdown",
   "id": "926b1d73-30a6-4dca-8439-61c12a0fec69",
   "metadata": {},
   "source": [
    "Now that we have our folder lets start playing around with git:\n",
    "1. We are going initialize our folder/repository. This jumpstarts the git process. First, make sure you are still in the **practice** folder you created. Then copy this into the command line:\n",
    "    - `git init`\n",
    "2. Now to specifiy what you want to save, use `git add`. There are two ways to use this command:\n",
    "\n",
    "    - `git add .` will save all your changes across all files in your folder\n",
    "    \n",
    "    - `git add [insert filename]` will only save work done in the file you specify\n",
    "    \n",
    "    In my opinion the first is the safest and only command I use to save all my work because I'd hate to forget saving any changes\n",
    "    \n",
    "3. Now that we have acknowledged what we want to save. We will use `git commit -m'insert comment'` to actually save our progress. It is important to comment well so you will be less confused when trying to go back to see what changes you made and where. Type this into the command line:\n",
    "    - `git commit -m'[insert your comment]'`"
   ]
  },
  {
   "cell_type": "markdown",
   "id": "0c7805b9-58f1-4f6a-9ec3-92769c772918",
   "metadata": {},
   "source": [
    "![firstcommits.png](firstcommits.png)"
   ]
  },
  {
   "cell_type": "markdown",
   "id": "085d4dbe-4fb4-4617-b9a2-f2693708e6c7",
   "metadata": {},
   "source": [
    "4. Now find your txt file in the practice folder, and open it. It should be empty. Type anything you want in there and save the file. Now lets add our changes and save it using the `git commit` command\n",
    "    - `git add .`\n",
    "    - `git commit -m'[insert your comment]'`"
   ]
  },
  {
   "cell_type": "markdown",
   "id": "db6a54ff-26f3-41ea-8e94-27135d0434e0",
   "metadata": {},
   "source": [
    "![another_commit.png](another_commit.png)"
   ]
  },
  {
   "cell_type": "markdown",
   "id": "0939a644-17b4-4bd6-9726-b3673ac20446",
   "metadata": {},
   "source": [
    "5. To see a log of all of our commits, we can use git log.\n",
    "    - `git log --oneline`"
   ]
  },
  {
   "cell_type": "markdown",
   "id": "0f40b194-7f34-41a6-b76d-fdd88002df50",
   "metadata": {},
   "source": [
    "![gitlogoneline.png](gitlogoneline.png)"
   ]
  },
  {
   "cell_type": "markdown",
   "id": "eab96b6e-b7ac-4b99-87f2-2f25b95e4e81",
   "metadata": {},
   "source": [
    "6. Say we made some mistakes, and would like to go to a previous point in our project, we would use the `git log --oneline` look at our comments to see what version we want to go back to, copy the ID of the commit, then type this into terminal:\n",
    "    - `git checkout <commit-id> .`\n",
    "    Don’t forget the final ‘ .’ at the end. If you leave this off it will take you to a new “detached head state” where you can make changes and it will allow you to make commits, but nothing will be saved and any commits you make will be lost. After running that line and once you are sure you want to revert to the old version of your project, add and then commit your changes:\n",
    "    - `git add .`\n",
    "    - `git commit -m'detailed explanation of why you made those changes'`\n"
   ]
  },
  {
   "cell_type": "markdown",
   "id": "71997495-1874-47de-9125-72e2a2de1b44",
   "metadata": {
    "tags": []
   },
   "source": [
    "### How to use GitHub for Your Projects"
   ]
  },
  {
   "cell_type": "markdown",
   "id": "2956a4f8-5b15-4fa5-be8d-b28a48274bf8",
   "metadata": {},
   "source": [
    "Now that we've familiarized ourselves with git, lets learn about github. All of the work we done so far has been done locally on our private computer and we can only track our changes using the command line.  This is where Github comes in. In the next few steps we're going to create an online folder on Github that will showcase our work and easily allow us to track our commits."
   ]
  },
  {
   "cell_type": "markdown",
   "id": "fbc8a739-d712-41de-99cd-5b461e397be0",
   "metadata": {},
   "source": [
    "1. Head over to your Github account. You should see a green button called 'create repository'. Click on it"
   ]
  },
  {
   "cell_type": "markdown",
   "id": "c6922299-60da-4d8e-a800-c780551c4725",
   "metadata": {},
   "source": [
    "![create_first_repo.png](create_first_repo.png)"
   ]
  },
  {
   "cell_type": "markdown",
   "id": "7a963f4b-0006-4365-923a-8aee0a21dd01",
   "metadata": {},
   "source": [
    "Now create your repo. Give it the same name as the folder on your computer we are linking it to which, in this case, is our practice folder. Choose to make your repo public or private and then click create repository. Note that you can change whether a repo is public or private at anytime. If you want others to see your work, the repo will have to be public."
   ]
  },
  {
   "cell_type": "markdown",
   "id": "e367bb78-92fb-4f8f-aa48-3e75eb034ce6",
   "metadata": {},
   "source": [
    "![create_repo_2.png](create_repo_2.png)"
   ]
  },
  {
   "cell_type": "markdown",
   "id": "d3c14e83-292c-4b61-903d-f2784cd59790",
   "metadata": {},
   "source": [
    "You have now created your first repository in github! Now we need to get some things in there. Lets take a look at some instructions GitHub has given us to help us with this endeavor. \n",
    "We'll skip over the first set of directions since we're ahead of the curve and instead take a look at the second set. Copy the very first line and head over to **Terminal**"
   ]
  },
  {
   "cell_type": "markdown",
   "id": "74930fe3-8eda-4ba4-a56e-735e7bb0661e",
   "metadata": {},
   "source": [
    "![lookinsiderepo.png](lookinsiderepo.png)"
   ]
  },
  {
   "cell_type": "markdown",
   "id": "f02f8384-9bc6-41e0-b508-fa4be544578d",
   "metadata": {},
   "source": [
    "#### To push our work onto GitHub, follow these set of instructions: \n",
    " 1. Open **Terminal** \n",
    " 2. Take the first line of instructions we copied, paste it into the command line, and hit enter\n",
    "    - `git remote add origin https://github.com/[your_username]/practice.git`\n",
    " 3. Now we have linked our online repository to the repository on our computer. Next we'll push all of the data in our folder as well as all of the the commits we made using git into our Github repo:\n",
    "    - `git push -u origin master`"
   ]
  },
  {
   "cell_type": "markdown",
   "id": "1794bdb1-94d0-41da-9d3a-1ca63d88393b",
   "metadata": {},
   "source": [
    "#### WARNING: Account Authentication Process"
   ]
  },
  {
   "cell_type": "markdown",
   "id": "79146c38-a6fd-4015-9c05-a489ce9cecb2",
   "metadata": {},
   "source": [
    "At this point you might be prompted for a password because github wants to use to authenticate your account. GitHub will most likely not allow you to use your account password for this process. Instead you will have to use an access token."
   ]
  },
  {
   "cell_type": "markdown",
   "id": "7bf65db1-c917-4463-86c6-bb3f4d6be9ce",
   "metadata": {},
   "source": [
    "To get an access token head over to your account, find your profile picture, and scroll down to settings"
   ]
  },
  {
   "cell_type": "markdown",
   "id": "834ac6fa-9dd4-47af-8a5a-3dcaf765f07f",
   "metadata": {},
   "source": [
    "![access_token_git1.png](access_token_git1.png)"
   ]
  },
  {
   "cell_type": "markdown",
   "id": "eeab923d-adac-4cdc-9fa3-d0948a2823dc",
   "metadata": {},
   "source": [
    "Find the Developer Setting tab and click on it"
   ]
  },
  {
   "cell_type": "markdown",
   "id": "53d6ca04-1849-4dc2-bb53-0076efd1f508",
   "metadata": {},
   "source": [
    "![develop_settings.png](develop_settings.png)"
   ]
  },
  {
   "cell_type": "markdown",
   "id": "bedbe995-e3f7-47fb-9ab9-0ce2c651349d",
   "metadata": {},
   "source": [
    "Now under personal access tokens, select Tokens(classic)"
   ]
  },
  {
   "cell_type": "markdown",
   "id": "86a01e80-c010-4b11-b9e0-03b67d4e21b2",
   "metadata": {},
   "source": [
    "![settingsdevelop.png](settingsdevelop.png)"
   ]
  },
  {
   "cell_type": "markdown",
   "id": "5ed7f373-22b8-40c5-8f6f-6b95b90d00a2",
   "metadata": {},
   "source": [
    "Click on **Generate New Token** and select **Generate New token(classic)**"
   ]
  },
  {
   "cell_type": "markdown",
   "id": "26690fd8-4b44-43bd-bfb5-77d712724ee6",
   "metadata": {},
   "source": [
    "![Personal_access_tokens.png](Personal_access_tokens.png)"
   ]
  },
  {
   "cell_type": "markdown",
   "id": "851167b8-f4ba-4d78-93b6-13fdcd36414d",
   "metadata": {},
   "source": [
    "(*For this part use a different picture, same name, with al the boxes shown as select. Include another picture showing where they have to click to create the token* )\n",
    "Fill out the Notes section and for select scopes check all of the boxes. Then scroll down and create your token "
   ]
  },
  {
   "cell_type": "markdown",
   "id": "93c2d979-dfdf-457d-9eff-f88dfe1b0722",
   "metadata": {},
   "source": [
    "![personal_access_token_check.png](personal_access_token_check.png)"
   ]
  },
  {
   "cell_type": "markdown",
   "id": "a940793e-1379-4080-a680-b41385109e86",
   "metadata": {},
   "source": [
    "Now that you have created your token be sure you copy it and save it. Go back to terminal and paste your token as your password and click enter. Now repeat steps 1 -3 for setting up your remote repository and run your commands. "
   ]
  },
  {
   "cell_type": "markdown",
   "id": "706976b2-58c3-44b2-9846-19074822a24f",
   "metadata": {},
   "source": [
    "Terminal will tell you if the push request failed or not, but just to be sure, head over to your online repository and refresh it. "
   ]
  },
  {
   "cell_type": "markdown",
   "id": "96ae5c8d-72d0-4db8-8e64-4cf5427534e8",
   "metadata": {},
   "source": [
    "![adding_remote_link.png](adding_remote_link.png)"
   ]
  },
  {
   "cell_type": "markdown",
   "id": "ffc88806-18cc-4ca6-8777-bacac48666e0",
   "metadata": {},
   "source": [
    "You should now see the file you created along with the time you pushed it to GitHub. We can also see how many commits we have made in this repository and even see the details about each commit when we click on it"
   ]
  },
  {
   "cell_type": "markdown",
   "id": "e5eb70f0-0fe4-41f8-9c8c-e48d3f841031",
   "metadata": {},
   "source": [
    "![github_wizardry_worked.png](github_wizardry_worked.png)"
   ]
  },
  {
   "cell_type": "markdown",
   "id": "d7f72e8a-76fd-4197-92a9-d1069d7faa3a",
   "metadata": {},
   "source": [
    "Github not only gives details such as commit comments, the commit ID, and the date of the commit, but also allows you to see what your folder looked like when you saved your work."
   ]
  },
  {
   "cell_type": "markdown",
   "id": "95fe1817-db28-4c88-99df-4465afee44ec",
   "metadata": {},
   "source": [
    "![see_ur_commits.png](see_ur_commits.png)"
   ]
  },
  {
   "cell_type": "markdown",
   "id": "f31a2e7c-a58a-46bc-b4be-dcf91041689b",
   "metadata": {},
   "source": [
    "Furthermore, you can see the content of the file you push into your repository by simply clicking on it it. In this case, its just text, but if you were to push a python file or a notebook into Github, it would allow you to see the code you wrote. Very cool stuff. "
   ]
  },
  {
   "cell_type": "markdown",
   "id": "b697b78b-1c50-472f-ac06-df77bc46ad81",
   "metadata": {},
   "source": [
    "![textyouwrote.png](textyouwrote.png)"
   ]
  },
  {
   "cell_type": "markdown",
   "id": "39b8853a-9609-4c28-b41a-054d68fd98c6",
   "metadata": {},
   "source": [
    "If you made it this far with no trouble then congrats! You have cast your very first spell from the large Github book of wizardry. There's more to learn about Github but these are the most important things you need to know to make it a home for your projects. Github is the best ecosystem to track your progress and save your work so I would highly encourage anyone interested in coding to use it on a recurring basis. "
   ]
  },
  {
   "cell_type": "markdown",
   "id": "ee48fafa-1fba-4ae2-8274-86be7d59da3d",
   "metadata": {},
   "source": [
    "### How to Use GitHub to Collaborate with Others"
   ]
  },
  {
   "cell_type": "markdown",
   "id": "7d86b581-69cf-4f90-8dbd-cf5063b223dd",
   "metadata": {},
   "source": [
    "By now we understand the git helps us take snapshots of our project environment, and allows us to revert back in case something goes left and we would like to recover our previous work, but things can get really confusing when more than one persion is working on a project and making changes. Github helps us with managing this process with **branches**. "
   ]
  },
  {
   "cell_type": "markdown",
   "id": "bc2f40ef-0173-46dc-91cc-f5b68533bdaf",
   "metadata": {},
   "source": [
    "A branch is in essence a set of unique cod with a unique name. Each repository can have more than one branch. Go to your repository and look at the top of your page. You should see **master** and **1 branch** towards the top. "
   ]
  },
  {
   "cell_type": "markdown",
   "id": "bfca679e-8bb8-46e4-b602-8d7b4e35d602",
   "metadata": {},
   "source": [
    "![masterbranch.png](masterbranch.png)"
   ]
  },
  {
   "cell_type": "markdown",
   "id": "e09046fd-86e7-4a2f-b57e-9a62a2e83a33",
   "metadata": {},
   "source": [
    "**Master** means that this is the main branch that all other branches will come from. It is the official place for the final project being built. Next to master, you should see **1 branch** which indicates the master branch is the first and only branch associated with this repository."
   ]
  },
  {
   "cell_type": "markdown",
   "id": "d3731209-1aef-4816-bfb9-8a748c281049",
   "metadata": {},
   "source": [
    "When working on your own projects, you can work directly off the master branch. You are the master of the master branch. When you work with a team or collaborate with others on a project, you would never want to touch the master. You would need to to create another branch to do your work "
   ]
  },
  {
   "cell_type": "markdown",
   "id": "39aa22cc-dd1c-4f4a-b7c2-fdb7be3f278f",
   "metadata": {},
   "source": [
    "Lets play around with this. We are going to pretend that our practice branch is a bigwig project and we will create a new branch to do our work.\n",
    "1. Go to terminal and use `git checkout` command to create a new branch:\n",
    "    - `git checkout -b [insert name of new branch]`"
   ]
  },
  {
   "cell_type": "markdown",
   "id": "339c07e6-c86e-4efc-a4cc-5570e2c7760d",
   "metadata": {},
   "source": [
    "![creating_new_branch.png](creating_new_branch.png)"
   ]
  },
  {
   "cell_type": "markdown",
   "id": "e83b5ce3-7569-4135-b558-7d32505a4afd",
   "metadata": {},
   "source": [
    "2. While in the new branch, create a new text file called 'a-test.txt':\n",
    "    - **For Mac**: `touch a-test.txt`\n",
    "    - **For Windows**: `echo a-test.txt`"
   ]
  },
  {
   "cell_type": "markdown",
   "id": "394bc66a-b14c-4c1c-8430-8b70b0ac695a",
   "metadata": {},
   "source": [
    "![adding_to_new_branch.png](adding_to_new_branch.png)"
   ]
  },
  {
   "cell_type": "markdown",
   "id": "ce51b182-dae0-4350-a321-f9ed6caa670e",
   "metadata": {},
   "source": [
    "3. As sanity check, lets make sure we are tracking the branch we are working on:\n",
    "    - `git branch`"
   ]
  },
  {
   "cell_type": "markdown",
   "id": "a19b80ad-c011-4a98-b17e-944a4fa8e61a",
   "metadata": {},
   "source": [
    "![checking_branch_on.png](checking_branch_on.png)"
   ]
  },
  {
   "cell_type": "markdown",
   "id": "8978f79b-5eae-43c7-9e89-4e261a5fb6b8",
   "metadata": {},
   "source": [
    "4. Save the changes you have made in the new branch and push it into github:\n",
    "    - `git add .`\n",
    "    - `git commit -m'[insert comment]'`\n",
    "    - `git push origin [new branch name]`"
   ]
  },
  {
   "cell_type": "markdown",
   "id": "5851d963-b288-4407-b4df-eec9c5890668",
   "metadata": {},
   "source": [
    "![saving_new_branch_changes.png](saving_new_branch_changes.png)"
   ]
  },
  {
   "cell_type": "markdown",
   "id": "3e3b9267-5967-4013-ae53-808eed7f4c95",
   "metadata": {},
   "source": [
    "5. Head over to your github repo. You should get a notification about the new branch you greated. Click 'Compare & pull request'."
   ]
  },
  {
   "cell_type": "markdown",
   "id": "42b132c9-a4b4-4580-8421-0151a853357e",
   "metadata": {},
   "source": [
    "![see_branch_changes.png](see_branch_changes.png)"
   ]
  },
  {
   "cell_type": "markdown",
   "id": "52982add-7b79-4676-92a4-d269355a5f41",
   "metadata": {},
   "source": [
    "6. This page will give you the option to view the changes made in this branch and you as the owner of the master file will be able to view the updates and decide wheter or not they are good enough to be included in the master branch. To initiate this click on Create pull request. "
   ]
  },
  {
   "cell_type": "markdown",
   "id": "9364ae51-8d1f-4a2d-bf60-40d35d41dca8",
   "metadata": {},
   "source": [
    "![initiate_pull_request.png](initiate_pull_request.png)"
   ]
  },
  {
   "cell_type": "markdown",
   "id": "27dd86c1-1daa-4375-9cbc-0ef4f3c938d0",
   "metadata": {},
   "source": [
    "7. You will be led to a new page, and there select Merge pull request to push all the changes done on the new branch to the master branch"
   ]
  },
  {
   "cell_type": "markdown",
   "id": "27b269e5-2eba-4959-88ce-fbacdce0234b",
   "metadata": {},
   "source": [
    "![merge.png](merge.png)"
   ]
  },
  {
   "cell_type": "markdown",
   "id": "036ea2c2-5758-4c91-a4c9-14844b71522f",
   "metadata": {},
   "source": [
    "8. Once the you confirm the merge, Github will notify you whether the merge was succesfful or not. You should now see that your master branch now also has the new file you created in your new branch"
   ]
  },
  {
   "cell_type": "markdown",
   "id": "79b45a83-5dd3-4402-afc6-411fc2b8328f",
   "metadata": {},
   "source": [
    "![pull_request_success.png](pull_request_success.png)"
   ]
  },
  {
   "cell_type": "markdown",
   "id": "77bb1b85-4bfe-490b-8d2d-778f09cb7f62",
   "metadata": {},
   "source": [
    "![updated_file.png](updated_file.png)"
   ]
  },
  {
   "cell_type": "markdown",
   "id": "88b43562-d715-416e-9fed-d27294cac4ca",
   "metadata": {},
   "source": [
    "9. Now that your online master repo is up to date, you must also make sure the repo on you computer is safe as well. To do this, head back over to terminal and switch out of your new branch and back to the master branch:\n",
    "    - `git checkout master`"
   ]
  },
  {
   "cell_type": "markdown",
   "id": "b2fcda87-ae05-4588-be1c-d73d8db64300",
   "metadata": {},
   "source": [
    "![switch_to_master.png](switch_to_master.png)"
   ]
  },
  {
   "cell_type": "markdown",
   "id": "08ee0a97-9423-462f-89f0-4d2b75381dc3",
   "metadata": {},
   "source": [
    "10. Then use the git pull command to pull all the changes made in the online repo to your local repository:\n",
    "    - `git pull origin master`"
   ]
  },
  {
   "cell_type": "markdown",
   "id": "db90fea2-d7d1-4f77-acfa-8301b2375124",
   "metadata": {},
   "source": [
    "![git_pull.png](git_pull.png)"
   ]
  },
  {
   "cell_type": "markdown",
   "id": "a9a35077-4ac8-452b-8a98-76641abb5907",
   "metadata": {},
   "source": [
    "11. Use the git push command to check that things are back to normal. If your online repo does not much the repo on your computer, git will throw you an error:\n",
    "    - `git push origin master`"
   ]
  },
  {
   "cell_type": "markdown",
   "id": "9680f7d4-9ad6-4ba5-91c4-fec7cad1922c",
   "metadata": {},
   "source": [
    "![git_push_confirm_working.png](git_push_confirm_working.png)"
   ]
  },
  {
   "cell_type": "markdown",
   "id": "44a8cd54-1fdd-4e84-8385-c5fafe1cf913",
   "metadata": {},
   "source": [
    "With that last step, you have completed the process of creating a new branch, updated it with new information, and completed the whole process of initiating a pull request to keep both your online repo and local repo up to date. This is not necessary when building your own projects, but it will come in handy if you ever want to collaborate with other teams and people through Github. \n",
    "I hope this was helpful! In case it did not, I will leave some links to resources that helped me when figuring out GitHub. It can be a hard application to get your head around but once you do, it will be one of the most helpful tool in your programming journey."
   ]
  }
 ],
 "metadata": {
  "kernelspec": {
   "display_name": "Python 3 (ipykernel)",
   "language": "python",
   "name": "python3"
  },
  "language_info": {
   "codemirror_mode": {
    "name": "ipython",
    "version": 3
   },
   "file_extension": ".py",
   "mimetype": "text/x-python",
   "name": "python",
   "nbconvert_exporter": "python",
   "pygments_lexer": "ipython3",
   "version": "3.9.13"
  }
 },
 "nbformat": 4,
 "nbformat_minor": 5
}
