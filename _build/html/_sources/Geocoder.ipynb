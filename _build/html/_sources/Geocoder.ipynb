{
 "cells": [
  {
   "cell_type": "markdown",
   "id": "dfcbbaa4-f93c-4b00-b822-ef8109012350",
   "metadata": {},
   "source": [
    "# Geocoding in Python"
   ]
  },
  {
   "cell_type": "markdown",
   "id": "b193a7f0-ada4-4ce4-bcd7-c37596fbdc33",
   "metadata": {},
   "source": [
    "Maps can be a powerful way to tell stories about your data, yet great datasets for geospatial analysis are rarely complete. At times you may have a dataset that only has an address column, missing key information you’ll need for spatial analysis – Latitude and Longitude coordinates. In this case you’ll need to do some __Geocoding__.\n",
    "\n",
    "__Geocoding is the computational process of transforming a physical address description to a location on the Earth’s surface (spatial representation in numerical coordinates)__."
   ]
  },
  {
   "cell_type": "markdown",
   "id": "6e5e0592-951f-4d4a-8e6a-4b2722d756af",
   "metadata": {},
   "source": [
    "This sounds like a daunting process, but it can easily be done with the help of Python and the Bing Maps API. Before diving in, for any of this to work you will first have to acquire a Bing Maps API Key, which you can do by following these [simple steps](https://www.microsoft.com/en-us/maps/create-a-bing-maps-key \"click this to get your API Key\"). "
   ]
  },
  {
   "cell_type": "markdown",
   "id": "9c7d64ec-246e-40f9-a5a9-fa15321dee08",
   "metadata": {},
   "source": [
    "Next, import the libraries and packages needed which are the geocoder library and the pandas and re packages. The Geocoder package is the perfect candidate to solve this problem since it already deals with multiple geocoding services such as Google, Bing, OSM. Using this package and the Bing API Key, we’ll be able to use Bings data for our geocoding needs."
   ]
  },
  {
   "cell_type": "code",
   "execution_count": 1,
   "id": "8a5caa84-132a-492f-974e-c24077abdb67",
   "metadata": {
    "tags": [
     "hide-output",
     "hide-input",
     "remove-output"
    ]
   },
   "outputs": [],
   "source": [
    "!pip install geocoder"
   ]
  },
  {
   "cell_type": "code",
   "execution_count": 2,
   "id": "0e2cf792-6aa8-4a1d-8814-415cd3f8d2a3",
   "metadata": {
    "tags": [
     "remove-output"
    ]
   },
   "outputs": [],
   "source": [
    "import geocoder\n",
    "import pandas as pd\n",
    "import re\n",
    "import warnings\n",
    "warnings.simplefilter(action='ignore', category=FutureWarning)"
   ]
  },
  {
   "cell_type": "markdown",
   "id": "6121040b-d68d-4d81-868d-07c6dbf8c259",
   "metadata": {},
   "source": [
    "### Test The API"
   ]
  },
  {
   "cell_type": "markdown",
   "id": "02e121df-b6db-4275-8f28-02bbc0b6ad01",
   "metadata": {},
   "source": [
    "Now test out the Geocoder package and our API Key to make sure they work.\n",
    "\n",
    "We’ll define our geocoder as g and make a request to Bing to geocode a specific address. The Bing API usually needs the address line(Street Address), locality(City/Town), and adminDistrict(State) to geocode the addresses. You also need to pass the developer key you retrieved from Bing through the geocoder.\n",
    "\n",
    "After running this, your output should be the latitudinal and longitudinal coordinates of the address we used for testing."
   ]
  },
  {
   "cell_type": "code",
   "execution_count": 3,
   "id": "c35bb926-0253-40ca-b215-209823368bb7",
   "metadata": {
    "tags": [
     "remove-output",
     "remove-input"
    ]
   },
   "outputs": [],
   "source": [
    "APIKey= 'AhrrKF6BHmGIS3d71YtAb1AbGhXx5dBGhNgcWoS4vdd1apFoj1Spapvdq6r34UhC' "
   ]
  },
  {
   "cell_type": "code",
   "execution_count": 4,
   "id": "bcad282e-de66-4061-bc9e-52b7c1ae09c4",
   "metadata": {},
   "outputs": [
    {
     "name": "stdout",
     "output_type": "stream",
     "text": [
      "[40.57463837, -122.38108826]\n"
     ]
    }
   ],
   "source": [
    "g = geocoder.bing(None, addressline = '2831 Henderson Rd, Redding, CA 96002', locality='Redding', adminDistrict='California', method='details', key=APIKey)\n",
    "g.json\n",
    "for result in  g:\n",
    "    print(result.latlng)"
   ]
  },
  {
   "cell_type": "markdown",
   "id": "a8bd1612-4338-46f5-a656-21514699059e",
   "metadata": {},
   "source": [
    "As can be seen below, the same can be done to reverse geocode coordinates to retrieve specific address locations for any place in the world. "
   ]
  },
  {
   "cell_type": "code",
   "execution_count": 5,
   "id": "bc85a61e-a8e6-414c-8a64-684117d79a59",
   "metadata": {},
   "outputs": [
    {
     "name": "stdout",
     "output_type": "stream",
     "text": [
      "Kadena Town, Nakagami County, Okinawa, Japan Kadena Town  Okinawa Japan\n",
      "114 Rue de Vaugirard, 75006 Paris, France Paris 75006 Île-de-France France\n"
     ]
    }
   ],
   "source": [
    "g = geocoder.bing([[26.351670, 127.769400], [48.845580, 2.321807]], method='batch_reverse', key=APIKey)\n",
    "\n",
    "for result in g:\n",
    "    print(result.address, result.city, result.postal, result.state, result.country)"
   ]
  },
  {
   "cell_type": "markdown",
   "id": "f735f56e-78c1-43ed-8f3c-ce477c428d9e",
   "metadata": {},
   "source": [
    "### Read In the Data"
   ]
  },
  {
   "cell_type": "markdown",
   "id": "1838c3c2-fc0b-42ee-ab91-f42480ef88e5",
   "metadata": {},
   "source": [
    "Now that its been confirmed that the geocoder tool is working, lets read in the excel file of the addresseses we'd like to geocode. "
   ]
  },
  {
   "cell_type": "code",
   "execution_count": 6,
   "id": "d900549a-e1e6-455e-828d-a50a67fc04dd",
   "metadata": {},
   "outputs": [],
   "source": [
    "df = pd.read_csv('addresses.csv')"
   ]
  },
  {
   "cell_type": "code",
   "execution_count": 7,
   "id": "d3396469-312b-4811-bf3f-a19a1d80568b",
   "metadata": {},
   "outputs": [
    {
     "data": {
      "text/html": [
       "<div>\n",
       "<style scoped>\n",
       "    .dataframe tbody tr th:only-of-type {\n",
       "        vertical-align: middle;\n",
       "    }\n",
       "\n",
       "    .dataframe tbody tr th {\n",
       "        vertical-align: top;\n",
       "    }\n",
       "\n",
       "    .dataframe thead th {\n",
       "        text-align: right;\n",
       "    }\n",
       "</style>\n",
       "<table border=\"1\" class=\"dataframe\">\n",
       "  <thead>\n",
       "    <tr style=\"text-align: right;\">\n",
       "      <th></th>\n",
       "      <th>Unnamed: 0</th>\n",
       "      <th>address</th>\n",
       "    </tr>\n",
       "  </thead>\n",
       "  <tbody>\n",
       "    <tr>\n",
       "      <th>0</th>\n",
       "      <td>0</td>\n",
       "      <td>Whitlow Plan, Brookland Grove, Washington, DC ...</td>\n",
       "    </tr>\n",
       "    <tr>\n",
       "      <th>1</th>\n",
       "      <td>1</td>\n",
       "      <td>Unit 02 Plan, Aria Reserve Miami, Miami, FL 33137</td>\n",
       "    </tr>\n",
       "    <tr>\n",
       "      <th>2</th>\n",
       "      <td>2</td>\n",
       "      <td>Unit 01 A Plan, Aria Reserve Miami, Miami, FL ...</td>\n",
       "    </tr>\n",
       "    <tr>\n",
       "      <th>3</th>\n",
       "      <td>3</td>\n",
       "      <td>The Buchanan Plan, The Townhomes At Michigan P...</td>\n",
       "    </tr>\n",
       "    <tr>\n",
       "      <th>4</th>\n",
       "      <td>4</td>\n",
       "      <td>Plan 3 Plan, Hudson At Belterra, Austin, TX 78737</td>\n",
       "    </tr>\n",
       "  </tbody>\n",
       "</table>\n",
       "</div>"
      ],
      "text/plain": [
       "   Unnamed: 0                                            address\n",
       "0           0  Whitlow Plan, Brookland Grove, Washington, DC ...\n",
       "1           1  Unit 02 Plan, Aria Reserve Miami, Miami, FL 33137\n",
       "2           2  Unit 01 A Plan, Aria Reserve Miami, Miami, FL ...\n",
       "3           3  The Buchanan Plan, The Townhomes At Michigan P...\n",
       "4           4  Plan 3 Plan, Hudson At Belterra, Austin, TX 78737"
      ]
     },
     "execution_count": 7,
     "metadata": {},
     "output_type": "execute_result"
    }
   ],
   "source": [
    "df.head(5)"
   ]
  },
  {
   "cell_type": "code",
   "execution_count": 8,
   "id": "c8fe7bf0-7fc2-44e1-b8bc-812f0f53e718",
   "metadata": {},
   "outputs": [
    {
     "name": "stdout",
     "output_type": "stream",
     "text": [
      "196\n"
     ]
    }
   ],
   "source": [
    "print(len(df))"
   ]
  },
  {
   "cell_type": "code",
   "execution_count": null,
   "id": "d6fe3956-5e36-4379-a543-0a9c8867d6ba",
   "metadata": {},
   "outputs": [],
   "source": []
  },
  {
   "cell_type": "code",
   "execution_count": 9,
   "id": "e6b9f5fe-3afd-44c6-ab0d-685ce621fa73",
   "metadata": {},
   "outputs": [
    {
     "name": "stdout",
     "output_type": "stream",
     "text": [
      " Aria Reserve Miami\n"
     ]
    }
   ],
   "source": [
    "add = df['address']\n",
    "s= add.str.split(',')[1::2]\n",
    "print(s[1][1])"
   ]
  },
  {
   "cell_type": "markdown",
   "id": "533c6915-901a-42f1-8519-a2b936ca4046",
   "metadata": {},
   "source": [
    "Since the addresses are not formatted in the way necessary for the Bing API to do its work, some data transformation techniques will have to be employed.  Our data frame must have columns for the __address line__(Street Address), __locality__(City/Town), and  __adminDistrict__(State). \n",
    "We'll follow the steps below and use __Pandas__ as well as the __re__ packages to clean the data. \n",
    "1. Create and define a new Data frame outside of the forloop \n",
    "2. Use the re function to split our addresses by commas, which allow us to define the address, street, and city using their location each address string. \n",
    "3. Use the re function to split the addresses by spaces, which will allow us to extract the state and zip code using their location in the string\n",
    "4. After defining all the and cleaning the key data needed, append the newly cleaned observations into the geo Data frame."
   ]
  },
  {
   "cell_type": "code",
   "execution_count": 10,
   "id": "78c18be0-6f0f-4057-9ecb-24d0c25396f6",
   "metadata": {},
   "outputs": [],
   "source": [
    "geo_data = []  # List to store the dictionaries\n",
    "\n",
    "for i in df.address:\n",
    "    s = i.split(',', 2)\n",
    "    l = i.split()\n",
    "    address = i\n",
    "    street = s[0].strip()\n",
    "    city = s[1].strip()\n",
    "    country = 'U.S.'\n",
    "    state = l[-2].strip()\n",
    "    zipcode = l[-1].strip()\n",
    "    \n",
    "    # Append the data as a dictionary to the list\n",
    "    geo_data.append({'address': address, 'street': street, 'city': city, 'state': state,\n",
    "                     'zip': zipcode, 'country': country})\n",
    "\n",
    "# Create a DataFrame from the list of dictionaries\n",
    "geo = pd.DataFrame(geo_data)"
   ]
  },
  {
   "cell_type": "code",
   "execution_count": 17,
   "id": "f2975b54-039a-4ea1-ac33-1ca9db641902",
   "metadata": {},
   "outputs": [
    {
     "data": {
      "text/html": [
       "<div>\n",
       "<style scoped>\n",
       "    .dataframe tbody tr th:only-of-type {\n",
       "        vertical-align: middle;\n",
       "    }\n",
       "\n",
       "    .dataframe tbody tr th {\n",
       "        vertical-align: top;\n",
       "    }\n",
       "\n",
       "    .dataframe thead th {\n",
       "        text-align: right;\n",
       "    }\n",
       "</style>\n",
       "<table border=\"1\" class=\"dataframe\">\n",
       "  <thead>\n",
       "    <tr style=\"text-align: right;\">\n",
       "      <th></th>\n",
       "      <th>address</th>\n",
       "      <th>street</th>\n",
       "      <th>city</th>\n",
       "      <th>state</th>\n",
       "      <th>zip</th>\n",
       "      <th>country</th>\n",
       "      <th>lat</th>\n",
       "      <th>long</th>\n",
       "    </tr>\n",
       "  </thead>\n",
       "  <tbody>\n",
       "    <tr>\n",
       "      <th>0</th>\n",
       "      <td>Whitlow Plan, Brookland Grove, Washington, DC ...</td>\n",
       "      <td>Whitlow Plan</td>\n",
       "      <td>Brookland Grove</td>\n",
       "      <td>DC</td>\n",
       "      <td>20017</td>\n",
       "      <td>U.S.</td>\n",
       "      <td>38.904778</td>\n",
       "      <td>-77.016289</td>\n",
       "    </tr>\n",
       "    <tr>\n",
       "      <th>1</th>\n",
       "      <td>Unit 02 Plan, Aria Reserve Miami, Miami, FL 33137</td>\n",
       "      <td>Unit 02 Plan</td>\n",
       "      <td>Aria Reserve Miami</td>\n",
       "      <td>FL</td>\n",
       "      <td>33137</td>\n",
       "      <td>U.S.</td>\n",
       "      <td>28.595512</td>\n",
       "      <td>-82.487343</td>\n",
       "    </tr>\n",
       "    <tr>\n",
       "      <th>2</th>\n",
       "      <td>Unit 01 A Plan, Aria Reserve Miami, Miami, FL ...</td>\n",
       "      <td>Unit 01 A Plan</td>\n",
       "      <td>Aria Reserve Miami</td>\n",
       "      <td>FL</td>\n",
       "      <td>33137</td>\n",
       "      <td>U.S.</td>\n",
       "      <td>28.595512</td>\n",
       "      <td>-82.487343</td>\n",
       "    </tr>\n",
       "    <tr>\n",
       "      <th>3</th>\n",
       "      <td>The Buchanan Plan, The Townhomes At Michigan P...</td>\n",
       "      <td>The Buchanan Plan</td>\n",
       "      <td>The Townhomes At Michigan Park</td>\n",
       "      <td>DC</td>\n",
       "      <td>20017</td>\n",
       "      <td>U.S.</td>\n",
       "      <td>38.904778</td>\n",
       "      <td>-77.016289</td>\n",
       "    </tr>\n",
       "    <tr>\n",
       "      <th>4</th>\n",
       "      <td>Plan 3 Plan, Hudson At Belterra, Austin, TX 78737</td>\n",
       "      <td>Plan 3 Plan</td>\n",
       "      <td>Hudson At Belterra</td>\n",
       "      <td>TX</td>\n",
       "      <td>78737</td>\n",
       "      <td>U.S.</td>\n",
       "      <td>31.463848</td>\n",
       "      <td>-99.333298</td>\n",
       "    </tr>\n",
       "  </tbody>\n",
       "</table>\n",
       "</div>"
      ],
      "text/plain": [
       "                                             address             street   \n",
       "0  Whitlow Plan, Brookland Grove, Washington, DC ...       Whitlow Plan  \\\n",
       "1  Unit 02 Plan, Aria Reserve Miami, Miami, FL 33137       Unit 02 Plan   \n",
       "2  Unit 01 A Plan, Aria Reserve Miami, Miami, FL ...     Unit 01 A Plan   \n",
       "3  The Buchanan Plan, The Townhomes At Michigan P...  The Buchanan Plan   \n",
       "4  Plan 3 Plan, Hudson At Belterra, Austin, TX 78737        Plan 3 Plan   \n",
       "\n",
       "                             city state    zip country        lat       long  \n",
       "0                 Brookland Grove    DC  20017    U.S.  38.904778 -77.016289  \n",
       "1              Aria Reserve Miami    FL  33137    U.S.  28.595512 -82.487343  \n",
       "2              Aria Reserve Miami    FL  33137    U.S.  28.595512 -82.487343  \n",
       "3  The Townhomes At Michigan Park    DC  20017    U.S.  38.904778 -77.016289  \n",
       "4              Hudson At Belterra    TX  78737    U.S.  31.463848 -99.333298  "
      ]
     },
     "execution_count": 17,
     "metadata": {},
     "output_type": "execute_result"
    }
   ],
   "source": [
    "geo.head()"
   ]
  },
  {
   "cell_type": "markdown",
   "id": "0fe73ac7-cd2a-48d5-b769-3d6c7c2a73ef",
   "metadata": {},
   "source": [
    "Columns for the latitude and longitude coordinates the geocoder will retrieve from the the Bing API also needed to be created and added to the dataframe"
   ]
  },
  {
   "cell_type": "code",
   "execution_count": 18,
   "id": "c9df613e-1679-493d-935d-65028b9ec44f",
   "metadata": {},
   "outputs": [],
   "source": [
    "geo['lat'] = ' '\n",
    "geo['long'] = ' '"
   ]
  },
  {
   "cell_type": "markdown",
   "id": "d7a846d5-df50-45ae-be66-2484d1528cb1",
   "metadata": {},
   "source": [
    "This is how the geo data frame should look like after our mini preprocessing session:"
   ]
  },
  {
   "cell_type": "code",
   "execution_count": 19,
   "id": "b02547dc-c9d8-4c83-9fed-c1301cee385b",
   "metadata": {},
   "outputs": [
    {
     "data": {
      "text/html": [
       "<div>\n",
       "<style scoped>\n",
       "    .dataframe tbody tr th:only-of-type {\n",
       "        vertical-align: middle;\n",
       "    }\n",
       "\n",
       "    .dataframe tbody tr th {\n",
       "        vertical-align: top;\n",
       "    }\n",
       "\n",
       "    .dataframe thead th {\n",
       "        text-align: right;\n",
       "    }\n",
       "</style>\n",
       "<table border=\"1\" class=\"dataframe\">\n",
       "  <thead>\n",
       "    <tr style=\"text-align: right;\">\n",
       "      <th></th>\n",
       "      <th>address</th>\n",
       "      <th>street</th>\n",
       "      <th>city</th>\n",
       "      <th>state</th>\n",
       "      <th>zip</th>\n",
       "      <th>country</th>\n",
       "      <th>lat</th>\n",
       "      <th>long</th>\n",
       "    </tr>\n",
       "  </thead>\n",
       "  <tbody>\n",
       "    <tr>\n",
       "      <th>0</th>\n",
       "      <td>Whitlow Plan, Brookland Grove, Washington, DC ...</td>\n",
       "      <td>Whitlow Plan</td>\n",
       "      <td>Brookland Grove</td>\n",
       "      <td>DC</td>\n",
       "      <td>20017</td>\n",
       "      <td>U.S.</td>\n",
       "      <td></td>\n",
       "      <td></td>\n",
       "    </tr>\n",
       "    <tr>\n",
       "      <th>1</th>\n",
       "      <td>Unit 02 Plan, Aria Reserve Miami, Miami, FL 33137</td>\n",
       "      <td>Unit 02 Plan</td>\n",
       "      <td>Aria Reserve Miami</td>\n",
       "      <td>FL</td>\n",
       "      <td>33137</td>\n",
       "      <td>U.S.</td>\n",
       "      <td></td>\n",
       "      <td></td>\n",
       "    </tr>\n",
       "    <tr>\n",
       "      <th>2</th>\n",
       "      <td>Unit 01 A Plan, Aria Reserve Miami, Miami, FL ...</td>\n",
       "      <td>Unit 01 A Plan</td>\n",
       "      <td>Aria Reserve Miami</td>\n",
       "      <td>FL</td>\n",
       "      <td>33137</td>\n",
       "      <td>U.S.</td>\n",
       "      <td></td>\n",
       "      <td></td>\n",
       "    </tr>\n",
       "    <tr>\n",
       "      <th>3</th>\n",
       "      <td>The Buchanan Plan, The Townhomes At Michigan P...</td>\n",
       "      <td>The Buchanan Plan</td>\n",
       "      <td>The Townhomes At Michigan Park</td>\n",
       "      <td>DC</td>\n",
       "      <td>20017</td>\n",
       "      <td>U.S.</td>\n",
       "      <td></td>\n",
       "      <td></td>\n",
       "    </tr>\n",
       "    <tr>\n",
       "      <th>4</th>\n",
       "      <td>Plan 3 Plan, Hudson At Belterra, Austin, TX 78737</td>\n",
       "      <td>Plan 3 Plan</td>\n",
       "      <td>Hudson At Belterra</td>\n",
       "      <td>TX</td>\n",
       "      <td>78737</td>\n",
       "      <td>U.S.</td>\n",
       "      <td></td>\n",
       "      <td></td>\n",
       "    </tr>\n",
       "  </tbody>\n",
       "</table>\n",
       "</div>"
      ],
      "text/plain": [
       "                                             address             street   \n",
       "0  Whitlow Plan, Brookland Grove, Washington, DC ...       Whitlow Plan  \\\n",
       "1  Unit 02 Plan, Aria Reserve Miami, Miami, FL 33137       Unit 02 Plan   \n",
       "2  Unit 01 A Plan, Aria Reserve Miami, Miami, FL ...     Unit 01 A Plan   \n",
       "3  The Buchanan Plan, The Townhomes At Michigan P...  The Buchanan Plan   \n",
       "4  Plan 3 Plan, Hudson At Belterra, Austin, TX 78737        Plan 3 Plan   \n",
       "\n",
       "                             city state    zip country lat long  \n",
       "0                 Brookland Grove    DC  20017    U.S.           \n",
       "1              Aria Reserve Miami    FL  33137    U.S.           \n",
       "2              Aria Reserve Miami    FL  33137    U.S.           \n",
       "3  The Townhomes At Michigan Park    DC  20017    U.S.           \n",
       "4              Hudson At Belterra    TX  78737    U.S.           "
      ]
     },
     "execution_count": 19,
     "metadata": {},
     "output_type": "execute_result"
    }
   ],
   "source": [
    "geo.head()"
   ]
  },
  {
   "cell_type": "markdown",
   "id": "9062b42b-b880-4172-bb2d-301f77164f92",
   "metadata": {},
   "source": [
    "### Geocoding The Addresses"
   ]
  },
  {
   "cell_type": "markdown",
   "id": "b1eee386-8c1b-4959-a0c4-0241725328d5",
   "metadata": {},
   "source": [
    "Now its time to geocode. We will create a for loop to pass each address through the geocoder object created a couple steps above, except this time, we’ll be passing the column names for each iteration through it. Same as before, the Bing API Developer key will also have to be passed through the geocoder. We will then us the g.lat and g.long functions to request the latitudinal and longitudinal coordinates for all of our addresses."
   ]
  },
  {
   "cell_type": "code",
   "execution_count": 14,
   "id": "bc34ba5b-df17-4c88-b64a-b84e76351829",
   "metadata": {},
   "outputs": [],
   "source": [
    "for i in geo.index:\n",
    "    try:\n",
    "        g = geocoder.bing(None, addressline = geo['street'][i], locality= geo['city'][i], adminDistrict= geo['state'][i], PostalCode= geo['zip'][i], Countryregion= geo['country'][i], method='details', key='AqkhJ4a6kTQ6c4rm5vicHt7BsTav-KsWdaaKCnP794yFpzMDWPa1XCp14WUliC20')\n",
    "        g.json\n",
    "        geo.loc[i,'lat']=g.lat\n",
    "        geo.loc[i, 'long']=g.lng\n",
    "    except:\n",
    "        geo.loc[i,'lat']=''\n",
    "        geo.loc[i,'long']=''"
   ]
  },
  {
   "cell_type": "markdown",
   "id": "acf3e8fc-d070-4457-9a17-06eba148e21d",
   "metadata": {},
   "source": [
    "Now lets take a look at the geo data frame"
   ]
  },
  {
   "cell_type": "code",
   "execution_count": 15,
   "id": "4d53b66f-dff8-4f64-8b65-5926726a2e8e",
   "metadata": {},
   "outputs": [
    {
     "data": {
      "text/html": [
       "<div>\n",
       "<style scoped>\n",
       "    .dataframe tbody tr th:only-of-type {\n",
       "        vertical-align: middle;\n",
       "    }\n",
       "\n",
       "    .dataframe tbody tr th {\n",
       "        vertical-align: top;\n",
       "    }\n",
       "\n",
       "    .dataframe thead th {\n",
       "        text-align: right;\n",
       "    }\n",
       "</style>\n",
       "<table border=\"1\" class=\"dataframe\">\n",
       "  <thead>\n",
       "    <tr style=\"text-align: right;\">\n",
       "      <th></th>\n",
       "      <th>address</th>\n",
       "      <th>street</th>\n",
       "      <th>city</th>\n",
       "      <th>state</th>\n",
       "      <th>zip</th>\n",
       "      <th>country</th>\n",
       "      <th>lat</th>\n",
       "      <th>long</th>\n",
       "    </tr>\n",
       "  </thead>\n",
       "  <tbody>\n",
       "    <tr>\n",
       "      <th>0</th>\n",
       "      <td>Whitlow Plan, Brookland Grove, Washington, DC ...</td>\n",
       "      <td>Whitlow Plan</td>\n",
       "      <td>Brookland Grove</td>\n",
       "      <td>DC</td>\n",
       "      <td>20017</td>\n",
       "      <td>U.S.</td>\n",
       "      <td>38.904778</td>\n",
       "      <td>-77.016289</td>\n",
       "    </tr>\n",
       "    <tr>\n",
       "      <th>1</th>\n",
       "      <td>Unit 02 Plan, Aria Reserve Miami, Miami, FL 33137</td>\n",
       "      <td>Unit 02 Plan</td>\n",
       "      <td>Aria Reserve Miami</td>\n",
       "      <td>FL</td>\n",
       "      <td>33137</td>\n",
       "      <td>U.S.</td>\n",
       "      <td>28.595512</td>\n",
       "      <td>-82.487343</td>\n",
       "    </tr>\n",
       "    <tr>\n",
       "      <th>2</th>\n",
       "      <td>Unit 01 A Plan, Aria Reserve Miami, Miami, FL ...</td>\n",
       "      <td>Unit 01 A Plan</td>\n",
       "      <td>Aria Reserve Miami</td>\n",
       "      <td>FL</td>\n",
       "      <td>33137</td>\n",
       "      <td>U.S.</td>\n",
       "      <td>28.595512</td>\n",
       "      <td>-82.487343</td>\n",
       "    </tr>\n",
       "    <tr>\n",
       "      <th>3</th>\n",
       "      <td>The Buchanan Plan, The Townhomes At Michigan P...</td>\n",
       "      <td>The Buchanan Plan</td>\n",
       "      <td>The Townhomes At Michigan Park</td>\n",
       "      <td>DC</td>\n",
       "      <td>20017</td>\n",
       "      <td>U.S.</td>\n",
       "      <td>38.904778</td>\n",
       "      <td>-77.016289</td>\n",
       "    </tr>\n",
       "    <tr>\n",
       "      <th>4</th>\n",
       "      <td>Plan 3 Plan, Hudson At Belterra, Austin, TX 78737</td>\n",
       "      <td>Plan 3 Plan</td>\n",
       "      <td>Hudson At Belterra</td>\n",
       "      <td>TX</td>\n",
       "      <td>78737</td>\n",
       "      <td>U.S.</td>\n",
       "      <td>31.463848</td>\n",
       "      <td>-99.333298</td>\n",
       "    </tr>\n",
       "    <tr>\n",
       "      <th>...</th>\n",
       "      <td>...</td>\n",
       "      <td>...</td>\n",
       "      <td>...</td>\n",
       "      <td>...</td>\n",
       "      <td>...</td>\n",
       "      <td>...</td>\n",
       "      <td>...</td>\n",
       "      <td>...</td>\n",
       "    </tr>\n",
       "    <tr>\n",
       "      <th>191</th>\n",
       "      <td>065-620-017, Redding, CA 96001</td>\n",
       "      <td>065-620-017</td>\n",
       "      <td>Redding</td>\n",
       "      <td>CA</td>\n",
       "      <td>96001</td>\n",
       "      <td>U.S.</td>\n",
       "      <td>40.574638</td>\n",
       "      <td>-122.381088</td>\n",
       "    </tr>\n",
       "    <tr>\n",
       "      <th>192</th>\n",
       "      <td>(Undisclosed Address), Washington, DC 20020</td>\n",
       "      <td>(Undisclosed Address)</td>\n",
       "      <td>Washington</td>\n",
       "      <td>DC</td>\n",
       "      <td>20020</td>\n",
       "      <td>U.S.</td>\n",
       "      <td>38.892063</td>\n",
       "      <td>-77.019913</td>\n",
       "    </tr>\n",
       "    <tr>\n",
       "      <th>193</th>\n",
       "      <td>(Undisclosed Address), Miami, FL 33177</td>\n",
       "      <td>(Undisclosed Address)</td>\n",
       "      <td>Miami</td>\n",
       "      <td>FL</td>\n",
       "      <td>33177</td>\n",
       "      <td>U.S.</td>\n",
       "      <td>25.775084</td>\n",
       "      <td>-80.194702</td>\n",
       "    </tr>\n",
       "    <tr>\n",
       "      <th>194</th>\n",
       "      <td>(Undisclosed Address), Miami, FL 33125</td>\n",
       "      <td>(Undisclosed Address)</td>\n",
       "      <td>Miami</td>\n",
       "      <td>FL</td>\n",
       "      <td>33125</td>\n",
       "      <td>U.S.</td>\n",
       "      <td>25.775084</td>\n",
       "      <td>-80.194702</td>\n",
       "    </tr>\n",
       "    <tr>\n",
       "      <th>195</th>\n",
       "      <td>Whitlow Plan, Brookland Grove, Washington, DC ...</td>\n",
       "      <td>Whitlow Plan</td>\n",
       "      <td>Brookland Grove</td>\n",
       "      <td>DC</td>\n",
       "      <td>20017</td>\n",
       "      <td>U.S.</td>\n",
       "      <td>38.904778</td>\n",
       "      <td>-77.016289</td>\n",
       "    </tr>\n",
       "  </tbody>\n",
       "</table>\n",
       "<p>196 rows × 8 columns</p>\n",
       "</div>"
      ],
      "text/plain": [
       "                                               address                 street   \n",
       "0    Whitlow Plan, Brookland Grove, Washington, DC ...           Whitlow Plan  \\\n",
       "1    Unit 02 Plan, Aria Reserve Miami, Miami, FL 33137           Unit 02 Plan   \n",
       "2    Unit 01 A Plan, Aria Reserve Miami, Miami, FL ...         Unit 01 A Plan   \n",
       "3    The Buchanan Plan, The Townhomes At Michigan P...      The Buchanan Plan   \n",
       "4    Plan 3 Plan, Hudson At Belterra, Austin, TX 78737            Plan 3 Plan   \n",
       "..                                                 ...                    ...   \n",
       "191                     065-620-017, Redding, CA 96001            065-620-017   \n",
       "192        (Undisclosed Address), Washington, DC 20020  (Undisclosed Address)   \n",
       "193             (Undisclosed Address), Miami, FL 33177  (Undisclosed Address)   \n",
       "194             (Undisclosed Address), Miami, FL 33125  (Undisclosed Address)   \n",
       "195  Whitlow Plan, Brookland Grove, Washington, DC ...           Whitlow Plan   \n",
       "\n",
       "                               city state    zip country        lat   \n",
       "0                   Brookland Grove    DC  20017    U.S.  38.904778  \\\n",
       "1                Aria Reserve Miami    FL  33137    U.S.  28.595512   \n",
       "2                Aria Reserve Miami    FL  33137    U.S.  28.595512   \n",
       "3    The Townhomes At Michigan Park    DC  20017    U.S.  38.904778   \n",
       "4                Hudson At Belterra    TX  78737    U.S.  31.463848   \n",
       "..                              ...   ...    ...     ...        ...   \n",
       "191                         Redding    CA  96001    U.S.  40.574638   \n",
       "192                      Washington    DC  20020    U.S.  38.892063   \n",
       "193                           Miami    FL  33177    U.S.  25.775084   \n",
       "194                           Miami    FL  33125    U.S.  25.775084   \n",
       "195                 Brookland Grove    DC  20017    U.S.  38.904778   \n",
       "\n",
       "           long  \n",
       "0    -77.016289  \n",
       "1    -82.487343  \n",
       "2    -82.487343  \n",
       "3    -77.016289  \n",
       "4    -99.333298  \n",
       "..          ...  \n",
       "191 -122.381088  \n",
       "192  -77.019913  \n",
       "193  -80.194702  \n",
       "194  -80.194702  \n",
       "195  -77.016289  \n",
       "\n",
       "[196 rows x 8 columns]"
      ]
     },
     "execution_count": 15,
     "metadata": {},
     "output_type": "execute_result"
    }
   ],
   "source": [
    "geo"
   ]
  },
  {
   "cell_type": "markdown",
   "id": "9ea5782e-4de7-448c-b4aa-9e35461db7df",
   "metadata": {},
   "source": [
    "We now have the coordinates for every single one of our addresses and have completed the geocoding process"
   ]
  }
 ],
 "metadata": {
  "kernelspec": {
   "display_name": "Python 3 (ipykernel)",
   "language": "python",
   "name": "python3"
  },
  "language_info": {
   "codemirror_mode": {
    "name": "ipython",
    "version": 3
   },
   "file_extension": ".py",
   "mimetype": "text/x-python",
   "name": "python",
   "nbconvert_exporter": "python",
   "pygments_lexer": "ipython3",
   "version": "3.9.13"
  }
 },
 "nbformat": 4,
 "nbformat_minor": 5
}
