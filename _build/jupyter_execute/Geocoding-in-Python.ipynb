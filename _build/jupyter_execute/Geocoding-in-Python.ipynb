{
 "cells": [
  {
   "cell_type": "markdown",
   "id": "dfcbbaa4-f93c-4b00-b822-ef8109012350",
   "metadata": {},
   "source": [
    "# Geocoding in Python"
   ]
  },
  {
   "cell_type": "markdown",
   "id": "e65ce303-6566-4440-9cf7-11c6d5bc7892",
   "metadata": {},
   "source": [
    "Maps can be a powerful way to tell stories about your data, yet great datasets for geospatial analysis are rarely complete. At times you may have a dataset that only has an address column, missing key information you’ll need for spatial analysis – Latitude and Longitude coordinates. In this case you’ll need to do some __Geocoding__.\n",
    "\n",
    "__Geocoding is the computational process of transforming a physical address description to a location on the Earth’s surface (spatial representation in numerical coordinates)__."
   ]
  },
  {
   "cell_type": "markdown",
   "id": "47496a71-8e44-4caa-99b9-f172bf3c15d8",
   "metadata": {},
   "source": [
    "This sounds like a daunting process, but it can easily be done with the help of Python and the Bing Maps API. Before diving in, for any of this to work you will first have to acquire a Bing Maps API Key, which you can do by following these [simple steps](https://www.microsoft.com/en-us/maps/create-a-bing-maps-key \"click this to get your API Key\"). "
   ]
  },
  {
   "cell_type": "markdown",
   "id": "d1956f2b-ac4f-4414-8c39-ed7449cd83c2",
   "metadata": {},
   "source": [
    "## Installing Necessary Libraries and Tools"
   ]
  },
  {
   "cell_type": "markdown",
   "id": "bb67877e-6df8-4172-b811-2e2cb300db8a",
   "metadata": {},
   "source": [
    "Next, import the libraries and packages needed which are the geocoder library and the pandas and re packages. The Geocoder package is the perfect candidate to solve this problem since it already deals with multiple geocoding services such as Google, Bing, OSM. Using this package and the Bing API Key, we’ll be able to use Bings data for our geocoding needs."
   ]
  },
  {
   "cell_type": "markdown",
   "id": "848803a1-5c48-4e3a-8587-519bec19502f",
   "metadata": {},
   "source": [
    "### Install Libraries"
   ]
  },
  {
   "cell_type": "code",
   "execution_count": 1,
   "id": "8a5caa84-132a-492f-974e-c24077abdb67",
   "metadata": {
    "collapsed": {
     "outputs_hidden": true
    },
    "jupyter": {
     "outputs_hidden": {
      "outputs_hidden": true
     }
    },
    "tags": [
     "remove-output"
    ]
   },
   "outputs": [
    {
     "name": "stdout",
     "output_type": "stream",
     "text": [
      "Requirement already satisfied: geocoder in /opt/anaconda3/lib/python3.9/site-packages (1.38.1)\r\n",
      "Requirement already satisfied: click in /opt/anaconda3/lib/python3.9/site-packages (from geocoder) (8.0.4)\r\n",
      "Requirement already satisfied: future in /opt/anaconda3/lib/python3.9/site-packages (from geocoder) (0.18.3)\r\n",
      "Requirement already satisfied: six in /opt/anaconda3/lib/python3.9/site-packages (from geocoder) (1.16.0)\r\n"
     ]
    },
    {
     "name": "stdout",
     "output_type": "stream",
     "text": [
      "Requirement already satisfied: ratelim in /opt/anaconda3/lib/python3.9/site-packages (from geocoder) (0.1.6)\r\n",
      "Requirement already satisfied: requests in /opt/anaconda3/lib/python3.9/site-packages (from geocoder) (2.28.1)\r\n",
      "Requirement already satisfied: decorator in /opt/anaconda3/lib/python3.9/site-packages (from ratelim->geocoder) (5.1.1)\r\n",
      "Requirement already satisfied: urllib3<1.27,>=1.21.1 in /opt/anaconda3/lib/python3.9/site-packages (from requests->geocoder) (1.26.15)\r\n",
      "Requirement already satisfied: idna<4,>=2.5 in /opt/anaconda3/lib/python3.9/site-packages (from requests->geocoder) (3.4)\r\n",
      "Requirement already satisfied: certifi>=2017.4.17 in /opt/anaconda3/lib/python3.9/site-packages (from requests->geocoder) (2022.12.7)\r\n",
      "Requirement already satisfied: charset-normalizer<3,>=2 in /opt/anaconda3/lib/python3.9/site-packages (from requests->geocoder) (2.0.4)\r\n"
     ]
    }
   ],
   "source": [
    "!pip install geocoder"
   ]
  },
  {
   "cell_type": "markdown",
   "id": "c9ddae3c-6be6-4471-924c-9be48759351a",
   "metadata": {},
   "source": [
    "### Install Packages"
   ]
  },
  {
   "cell_type": "code",
   "execution_count": 2,
   "id": "f9d76339",
   "metadata": {
    "tags": [
     "remove-input",
     "remove-output"
    ]
   },
   "outputs": [],
   "source": [
    "import warnings\n",
    "warnings.simplefilter(action='ignore', category=FutureWarning)"
   ]
  },
  {
   "cell_type": "code",
   "execution_count": 3,
   "id": "0e2cf792-6aa8-4a1d-8814-415cd3f8d2a3",
   "metadata": {},
   "outputs": [],
   "source": [
    "import geocoder\n",
    "import pandas as pd\n",
    "import re"
   ]
  },
  {
   "cell_type": "markdown",
   "id": "ceea2d4e-eaf1-4352-a31c-0ddc1adf1580",
   "metadata": {},
   "source": [
    "## Data Preprocessing"
   ]
  },
  {
   "cell_type": "markdown",
   "id": "5a406292-f4de-4e11-baeb-1eb7f30c0292",
   "metadata": {},
   "source": [
    "### Testing The Geocoder"
   ]
  },
  {
   "cell_type": "markdown",
   "id": "aa873072-e00a-4e1f-8ebf-35d6cfc893a8",
   "metadata": {},
   "source": [
    "Now test out the Geocoder package and our API Key to make sure they work. \n",
    "\n",
    "We’ll define our geocoder as g and make a request to Bing to geocode a specific address. The Bing API usually needs the address line(Street Address), locality(City/Town), and adminDistrict(State) to geocode the addresses. You also need to pass the developer key you retrieved from Bing through the geocoder.\n",
    "\n",
    "After running this, your output should be the latitudinal and longitudinal coordinates of the address we used for testing."
   ]
  },
  {
   "cell_type": "code",
   "execution_count": 4,
   "id": "0f7bc972-49b3-40d9-a721-d1898d7dfc4a",
   "metadata": {
    "jupyter": {
     "source_hidden": true
    },
    "tags": [
     "remove-input"
    ]
   },
   "outputs": [],
   "source": [
    "## This piece of code is hidden in our HTML Script using tags. \n",
    "## This is done by going to 'view' then selecting tags and entering remove-input\n",
    "## This can be done for outputs by clicking \"remove-output\", you can hide it as well instead of just removing\n",
    "APIKey= 'AiBnj44fEKq_ivctmWJQMIngyMz7QZFIXAXtSuWQ6VKz2AMSiPmqHjQf7yEIzvZP'"
   ]
  },
  {
   "cell_type": "code",
   "execution_count": 5,
   "id": "bcad282e-de66-4061-bc9e-52b7c1ae09c4",
   "metadata": {},
   "outputs": [
    {
     "name": "stderr",
     "output_type": "stream",
     "text": [
      "Status code 403 from http://dev.virtualearth.net/REST/v1/Locations: ERROR - 403 Client Error: Forbidden for url: http://dev.virtualearth.net/REST/v1/Locations?adminDistrict=California&locality=Redding&o=json&inclnb=1&key=AiBnj44fEKq_ivctmWJQMIngyMz7QZFIXAXtSuWQ6VKz2AMSiPmqHjQf7yEIzvZP&maxResults=1\n"
     ]
    }
   ],
   "source": [
    "g = geocoder.bing(None, addressline = '2831 Henderson Rd, Redding, CA 96002', \n",
    "                  locality='Redding', adminDistrict='California', \n",
    "                  method='details', key= APIKey)\n",
    "g.json\n",
    "for result in  g:\n",
    "    print(result.latlng)"
   ]
  },
  {
   "cell_type": "markdown",
   "id": "3ede8c06-4911-4a87-b218-a2b8e9ce0421",
   "metadata": {},
   "source": [
    "As can be seen below, the same can be done to reverse geocode coordinates to retrieve specific address locations for any place in the world. "
   ]
  },
  {
   "cell_type": "code",
   "execution_count": 6,
   "id": "bc85a61e-a8e6-414c-8a64-684117d79a59",
   "metadata": {},
   "outputs": [
    {
     "name": "stderr",
     "output_type": "stream",
     "text": [
      "Status code 403 from http://spatial.virtualearth.net/REST/v1/Dataflows/Geocode: ERROR - 403 Client Error: Forbidden for url: http://spatial.virtualearth.net/REST/v1/Dataflows/Geocode?input=csv&key=AiBnj44fEKq_ivctmWJQMIngyMz7QZFIXAXtSuWQ6VKz2AMSiPmqHjQf7yEIzvZP\n"
     ]
    }
   ],
   "source": [
    "g = geocoder.bing([[26.351670, 127.769400], [48.845580, 2.321807]], method='batch_reverse', key= APIKey)\n",
    "\n",
    "for result in g:\n",
    "    print(result.address, result.city, result.postal, result.state, result.country)"
   ]
  },
  {
   "cell_type": "markdown",
   "id": "bb2c1d17-8bbd-4935-900e-16f42a48541e",
   "metadata": {},
   "source": [
    "### Reading In and Transforming The Data"
   ]
  },
  {
   "cell_type": "markdown",
   "id": "9dc044f7",
   "metadata": {},
   "source": [
    "Now that its been confirmed that the geocoder tool is working, lets read in the excel file of the addresseses we'd like to geocode. "
   ]
  },
  {
   "cell_type": "code",
   "execution_count": 7,
   "id": "d900549a-e1e6-455e-828d-a50a67fc04dd",
   "metadata": {},
   "outputs": [
    {
     "ename": "FileNotFoundError",
     "evalue": "[Errno 2] No such file or directory: 'addresses.xlsx'",
     "output_type": "error",
     "traceback": [
      "\u001b[0;31m---------------------------------------------------------------------------\u001b[0m",
      "\u001b[0;31mFileNotFoundError\u001b[0m                         Traceback (most recent call last)",
      "Cell \u001b[0;32mIn[7], line 1\u001b[0m\n\u001b[0;32m----> 1\u001b[0m df \u001b[38;5;241m=\u001b[39m \u001b[43mpd\u001b[49m\u001b[38;5;241;43m.\u001b[39;49m\u001b[43mread_excel\u001b[49m\u001b[43m(\u001b[49m\u001b[38;5;124;43m'\u001b[39;49m\u001b[38;5;124;43maddresses.xlsx\u001b[39;49m\u001b[38;5;124;43m'\u001b[39;49m\u001b[43m)\u001b[49m\n",
      "File \u001b[0;32m/opt/anaconda3/lib/python3.9/site-packages/pandas/io/excel/_base.py:478\u001b[0m, in \u001b[0;36mread_excel\u001b[0;34m(io, sheet_name, header, names, index_col, usecols, dtype, engine, converters, true_values, false_values, skiprows, nrows, na_values, keep_default_na, na_filter, verbose, parse_dates, date_parser, date_format, thousands, decimal, comment, skipfooter, storage_options, dtype_backend)\u001b[0m\n\u001b[1;32m    476\u001b[0m \u001b[38;5;28;01mif\u001b[39;00m \u001b[38;5;129;01mnot\u001b[39;00m \u001b[38;5;28misinstance\u001b[39m(io, ExcelFile):\n\u001b[1;32m    477\u001b[0m     should_close \u001b[38;5;241m=\u001b[39m \u001b[38;5;28;01mTrue\u001b[39;00m\n\u001b[0;32m--> 478\u001b[0m     io \u001b[38;5;241m=\u001b[39m \u001b[43mExcelFile\u001b[49m\u001b[43m(\u001b[49m\u001b[43mio\u001b[49m\u001b[43m,\u001b[49m\u001b[43m \u001b[49m\u001b[43mstorage_options\u001b[49m\u001b[38;5;241;43m=\u001b[39;49m\u001b[43mstorage_options\u001b[49m\u001b[43m,\u001b[49m\u001b[43m \u001b[49m\u001b[43mengine\u001b[49m\u001b[38;5;241;43m=\u001b[39;49m\u001b[43mengine\u001b[49m\u001b[43m)\u001b[49m\n\u001b[1;32m    479\u001b[0m \u001b[38;5;28;01melif\u001b[39;00m engine \u001b[38;5;129;01mand\u001b[39;00m engine \u001b[38;5;241m!=\u001b[39m io\u001b[38;5;241m.\u001b[39mengine:\n\u001b[1;32m    480\u001b[0m     \u001b[38;5;28;01mraise\u001b[39;00m \u001b[38;5;167;01mValueError\u001b[39;00m(\n\u001b[1;32m    481\u001b[0m         \u001b[38;5;124m\"\u001b[39m\u001b[38;5;124mEngine should not be specified when passing \u001b[39m\u001b[38;5;124m\"\u001b[39m\n\u001b[1;32m    482\u001b[0m         \u001b[38;5;124m\"\u001b[39m\u001b[38;5;124man ExcelFile - ExcelFile already has the engine set\u001b[39m\u001b[38;5;124m\"\u001b[39m\n\u001b[1;32m    483\u001b[0m     )\n",
      "File \u001b[0;32m/opt/anaconda3/lib/python3.9/site-packages/pandas/io/excel/_base.py:1496\u001b[0m, in \u001b[0;36mExcelFile.__init__\u001b[0;34m(self, path_or_buffer, engine, storage_options)\u001b[0m\n\u001b[1;32m   1494\u001b[0m     ext \u001b[38;5;241m=\u001b[39m \u001b[38;5;124m\"\u001b[39m\u001b[38;5;124mxls\u001b[39m\u001b[38;5;124m\"\u001b[39m\n\u001b[1;32m   1495\u001b[0m \u001b[38;5;28;01melse\u001b[39;00m:\n\u001b[0;32m-> 1496\u001b[0m     ext \u001b[38;5;241m=\u001b[39m \u001b[43minspect_excel_format\u001b[49m\u001b[43m(\u001b[49m\n\u001b[1;32m   1497\u001b[0m \u001b[43m        \u001b[49m\u001b[43mcontent_or_path\u001b[49m\u001b[38;5;241;43m=\u001b[39;49m\u001b[43mpath_or_buffer\u001b[49m\u001b[43m,\u001b[49m\u001b[43m \u001b[49m\u001b[43mstorage_options\u001b[49m\u001b[38;5;241;43m=\u001b[39;49m\u001b[43mstorage_options\u001b[49m\n\u001b[1;32m   1498\u001b[0m \u001b[43m    \u001b[49m\u001b[43m)\u001b[49m\n\u001b[1;32m   1499\u001b[0m     \u001b[38;5;28;01mif\u001b[39;00m ext \u001b[38;5;129;01mis\u001b[39;00m \u001b[38;5;28;01mNone\u001b[39;00m:\n\u001b[1;32m   1500\u001b[0m         \u001b[38;5;28;01mraise\u001b[39;00m \u001b[38;5;167;01mValueError\u001b[39;00m(\n\u001b[1;32m   1501\u001b[0m             \u001b[38;5;124m\"\u001b[39m\u001b[38;5;124mExcel file format cannot be determined, you must specify \u001b[39m\u001b[38;5;124m\"\u001b[39m\n\u001b[1;32m   1502\u001b[0m             \u001b[38;5;124m\"\u001b[39m\u001b[38;5;124man engine manually.\u001b[39m\u001b[38;5;124m\"\u001b[39m\n\u001b[1;32m   1503\u001b[0m         )\n",
      "File \u001b[0;32m/opt/anaconda3/lib/python3.9/site-packages/pandas/io/excel/_base.py:1371\u001b[0m, in \u001b[0;36minspect_excel_format\u001b[0;34m(content_or_path, storage_options)\u001b[0m\n\u001b[1;32m   1368\u001b[0m \u001b[38;5;28;01mif\u001b[39;00m \u001b[38;5;28misinstance\u001b[39m(content_or_path, \u001b[38;5;28mbytes\u001b[39m):\n\u001b[1;32m   1369\u001b[0m     content_or_path \u001b[38;5;241m=\u001b[39m BytesIO(content_or_path)\n\u001b[0;32m-> 1371\u001b[0m \u001b[38;5;28;01mwith\u001b[39;00m \u001b[43mget_handle\u001b[49m\u001b[43m(\u001b[49m\n\u001b[1;32m   1372\u001b[0m \u001b[43m    \u001b[49m\u001b[43mcontent_or_path\u001b[49m\u001b[43m,\u001b[49m\u001b[43m \u001b[49m\u001b[38;5;124;43m\"\u001b[39;49m\u001b[38;5;124;43mrb\u001b[39;49m\u001b[38;5;124;43m\"\u001b[39;49m\u001b[43m,\u001b[49m\u001b[43m \u001b[49m\u001b[43mstorage_options\u001b[49m\u001b[38;5;241;43m=\u001b[39;49m\u001b[43mstorage_options\u001b[49m\u001b[43m,\u001b[49m\u001b[43m \u001b[49m\u001b[43mis_text\u001b[49m\u001b[38;5;241;43m=\u001b[39;49m\u001b[38;5;28;43;01mFalse\u001b[39;49;00m\n\u001b[1;32m   1373\u001b[0m \u001b[43m\u001b[49m\u001b[43m)\u001b[49m \u001b[38;5;28;01mas\u001b[39;00m handle:\n\u001b[1;32m   1374\u001b[0m     stream \u001b[38;5;241m=\u001b[39m handle\u001b[38;5;241m.\u001b[39mhandle\n\u001b[1;32m   1375\u001b[0m     stream\u001b[38;5;241m.\u001b[39mseek(\u001b[38;5;241m0\u001b[39m)\n",
      "File \u001b[0;32m/opt/anaconda3/lib/python3.9/site-packages/pandas/io/common.py:868\u001b[0m, in \u001b[0;36mget_handle\u001b[0;34m(path_or_buf, mode, encoding, compression, memory_map, is_text, errors, storage_options)\u001b[0m\n\u001b[1;32m    859\u001b[0m         handle \u001b[38;5;241m=\u001b[39m \u001b[38;5;28mopen\u001b[39m(\n\u001b[1;32m    860\u001b[0m             handle,\n\u001b[1;32m    861\u001b[0m             ioargs\u001b[38;5;241m.\u001b[39mmode,\n\u001b[0;32m   (...)\u001b[0m\n\u001b[1;32m    864\u001b[0m             newline\u001b[38;5;241m=\u001b[39m\u001b[38;5;124m\"\u001b[39m\u001b[38;5;124m\"\u001b[39m,\n\u001b[1;32m    865\u001b[0m         )\n\u001b[1;32m    866\u001b[0m     \u001b[38;5;28;01melse\u001b[39;00m:\n\u001b[1;32m    867\u001b[0m         \u001b[38;5;66;03m# Binary mode\u001b[39;00m\n\u001b[0;32m--> 868\u001b[0m         handle \u001b[38;5;241m=\u001b[39m \u001b[38;5;28;43mopen\u001b[39;49m\u001b[43m(\u001b[49m\u001b[43mhandle\u001b[49m\u001b[43m,\u001b[49m\u001b[43m \u001b[49m\u001b[43mioargs\u001b[49m\u001b[38;5;241;43m.\u001b[39;49m\u001b[43mmode\u001b[49m\u001b[43m)\u001b[49m\n\u001b[1;32m    869\u001b[0m     handles\u001b[38;5;241m.\u001b[39mappend(handle)\n\u001b[1;32m    871\u001b[0m \u001b[38;5;66;03m# Convert BytesIO or file objects passed with an encoding\u001b[39;00m\n",
      "\u001b[0;31mFileNotFoundError\u001b[0m: [Errno 2] No such file or directory: 'addresses.xlsx'"
     ]
    }
   ],
   "source": [
    "df = pd.read_excel('addresses.xlsx')"
   ]
  },
  {
   "cell_type": "code",
   "execution_count": 39,
   "id": "c2e686fe-586e-4cc9-a29a-0c2cdd46311a",
   "metadata": {},
   "outputs": [
    {
     "data": {
      "text/html": [
       "<div>\n",
       "<style scoped>\n",
       "    .dataframe tbody tr th:only-of-type {\n",
       "        vertical-align: middle;\n",
       "    }\n",
       "\n",
       "    .dataframe tbody tr th {\n",
       "        vertical-align: top;\n",
       "    }\n",
       "\n",
       "    .dataframe thead th {\n",
       "        text-align: right;\n",
       "    }\n",
       "</style>\n",
       "<table border=\"1\" class=\"dataframe\">\n",
       "  <thead>\n",
       "    <tr style=\"text-align: right;\">\n",
       "      <th></th>\n",
       "      <th>address</th>\n",
       "    </tr>\n",
       "  </thead>\n",
       "  <tbody>\n",
       "    <tr>\n",
       "      <th>0</th>\n",
       "      <td>Whitlow Plan, Brookland Grove, Washington, DC ...</td>\n",
       "    </tr>\n",
       "    <tr>\n",
       "      <th>1</th>\n",
       "      <td>Unit 02 Plan, Aria Reserve Miami, Miami, FL 33137</td>\n",
       "    </tr>\n",
       "    <tr>\n",
       "      <th>2</th>\n",
       "      <td>Unit 01 A Plan, Aria Reserve Miami, Miami, FL ...</td>\n",
       "    </tr>\n",
       "    <tr>\n",
       "      <th>3</th>\n",
       "      <td>The Buchanan Plan, The Townhomes At Michigan P...</td>\n",
       "    </tr>\n",
       "    <tr>\n",
       "      <th>4</th>\n",
       "      <td>Plan 3 Plan, Hudson At Belterra, Austin, TX 78737</td>\n",
       "    </tr>\n",
       "    <tr>\n",
       "      <th>...</th>\n",
       "      <td>...</td>\n",
       "    </tr>\n",
       "    <tr>\n",
       "      <th>191</th>\n",
       "      <td>065-620-017, Redding, CA 96001</td>\n",
       "    </tr>\n",
       "    <tr>\n",
       "      <th>192</th>\n",
       "      <td>(Undisclosed Address), Washington, DC 20020</td>\n",
       "    </tr>\n",
       "    <tr>\n",
       "      <th>193</th>\n",
       "      <td>(Undisclosed Address), Miami, FL 33177</td>\n",
       "    </tr>\n",
       "    <tr>\n",
       "      <th>194</th>\n",
       "      <td>(Undisclosed Address), Miami, FL 33125</td>\n",
       "    </tr>\n",
       "    <tr>\n",
       "      <th>195</th>\n",
       "      <td>Whitlow Plan, Brookland Grove, Washington, DC ...</td>\n",
       "    </tr>\n",
       "  </tbody>\n",
       "</table>\n",
       "<p>196 rows × 1 columns</p>\n",
       "</div>"
      ],
      "text/plain": [
       "                                               address\n",
       "0    Whitlow Plan, Brookland Grove, Washington, DC ...\n",
       "1    Unit 02 Plan, Aria Reserve Miami, Miami, FL 33137\n",
       "2    Unit 01 A Plan, Aria Reserve Miami, Miami, FL ...\n",
       "3    The Buchanan Plan, The Townhomes At Michigan P...\n",
       "4    Plan 3 Plan, Hudson At Belterra, Austin, TX 78737\n",
       "..                                                 ...\n",
       "191                     065-620-017, Redding, CA 96001\n",
       "192        (Undisclosed Address), Washington, DC 20020\n",
       "193             (Undisclosed Address), Miami, FL 33177\n",
       "194             (Undisclosed Address), Miami, FL 33125\n",
       "195  Whitlow Plan, Brookland Grove, Washington, DC ...\n",
       "\n",
       "[196 rows x 1 columns]"
      ]
     },
     "execution_count": 39,
     "metadata": {},
     "output_type": "execute_result"
    }
   ],
   "source": [
    "df"
   ]
  },
  {
   "cell_type": "markdown",
   "id": "b8c9b833-9327-4e47-b485-1fd0389235b8",
   "metadata": {},
   "source": [
    "Since the addresses are not formatted in the way necessary for the Bing API to do its work, some data transformation techniques will have to be employed.  Our data frame must have columns for the __address line__(Street Address), __locality__(City/Town), and  __adminDistrict__(State). \n",
    "We'll follow the steps below and use __Pandas__ as well as the __re__ packages to clean the data. \n",
    "1. Create and define a new Data frame outside of the forloop \n",
    "2. Use the re function to split our addresses by commas, which allow us to define the address, street, and city using their location each address string. \n",
    "3. Use the re function to split the addresses by spaces, which will allow us to extract the state and zip code using their location in the string\n",
    "4. After defining all the and cleaning the key data needed, append the newly cleaned observations into the geo Data frame."
   ]
  },
  {
   "cell_type": "code",
   "execution_count": 28,
   "id": "78c18be0-6f0f-4057-9ecb-24d0c25396f6",
   "metadata": {},
   "outputs": [],
   "source": [
    "geo = pd.DataFrame(columns = ['address','street','city','state','zip','country'])\n",
    "\n",
    "for i in df.address:\n",
    "    s= i.split(',',2)\n",
    "    l = i.split()\n",
    "    address = i\n",
    "    street = s[0]\n",
    "    #print(i)\n",
    "    city = s[1]\n",
    "    country = 'U.S.'\n",
    "    state = l[-2]\n",
    "    zipcode = l[-1]    \n",
    "    \n",
    "    geo = geo.append({'address':i,'street':street,'city':city,'state':state,\n",
    "                      'zip':zipcode,'country':country}, ignore_index=True)"
   ]
  },
  {
   "cell_type": "markdown",
   "id": "b45f7152-2c51-4728-8437-02b1e606b590",
   "metadata": {},
   "source": [
    "Columns for the latitude and longitude coordinates the geocoder will retrieve from the the Bing API also needed to be created and added to the dataframe"
   ]
  },
  {
   "cell_type": "code",
   "execution_count": 29,
   "id": "c9df613e-1679-493d-935d-65028b9ec44f",
   "metadata": {},
   "outputs": [],
   "source": [
    "geo['lat'] = ' '\n",
    "geo['long'] = ' '"
   ]
  },
  {
   "cell_type": "markdown",
   "id": "c6a93529-66b8-400e-ac20-68a151d77dda",
   "metadata": {},
   "source": [
    "This is how the geo data frame should look like after our mini preprocessing session:"
   ]
  },
  {
   "cell_type": "code",
   "execution_count": 14,
   "id": "b02547dc-c9d8-4c83-9fed-c1301cee385b",
   "metadata": {},
   "outputs": [
    {
     "data": {
      "text/html": [
       "<div>\n",
       "<style scoped>\n",
       "    .dataframe tbody tr th:only-of-type {\n",
       "        vertical-align: middle;\n",
       "    }\n",
       "\n",
       "    .dataframe tbody tr th {\n",
       "        vertical-align: top;\n",
       "    }\n",
       "\n",
       "    .dataframe thead th {\n",
       "        text-align: right;\n",
       "    }\n",
       "</style>\n",
       "<table border=\"1\" class=\"dataframe\">\n",
       "  <thead>\n",
       "    <tr style=\"text-align: right;\">\n",
       "      <th></th>\n",
       "      <th>address</th>\n",
       "      <th>street</th>\n",
       "      <th>city</th>\n",
       "      <th>state</th>\n",
       "      <th>zip</th>\n",
       "      <th>country</th>\n",
       "      <th>lat</th>\n",
       "      <th>long</th>\n",
       "    </tr>\n",
       "  </thead>\n",
       "  <tbody>\n",
       "    <tr>\n",
       "      <th>0</th>\n",
       "      <td>Whitlow Plan, Brookland Grove, Washington, DC ...</td>\n",
       "      <td>Whitlow Plan</td>\n",
       "      <td>Brookland Grove</td>\n",
       "      <td>DC</td>\n",
       "      <td>20017</td>\n",
       "      <td>U.S.</td>\n",
       "      <td></td>\n",
       "      <td></td>\n",
       "    </tr>\n",
       "    <tr>\n",
       "      <th>1</th>\n",
       "      <td>Unit 02 Plan, Aria Reserve Miami, Miami, FL 33137</td>\n",
       "      <td>Unit 02 Plan</td>\n",
       "      <td>Aria Reserve Miami</td>\n",
       "      <td>FL</td>\n",
       "      <td>33137</td>\n",
       "      <td>U.S.</td>\n",
       "      <td></td>\n",
       "      <td></td>\n",
       "    </tr>\n",
       "    <tr>\n",
       "      <th>2</th>\n",
       "      <td>Unit 01 A Plan, Aria Reserve Miami, Miami, FL ...</td>\n",
       "      <td>Unit 01 A Plan</td>\n",
       "      <td>Aria Reserve Miami</td>\n",
       "      <td>FL</td>\n",
       "      <td>33137</td>\n",
       "      <td>U.S.</td>\n",
       "      <td></td>\n",
       "      <td></td>\n",
       "    </tr>\n",
       "    <tr>\n",
       "      <th>3</th>\n",
       "      <td>The Buchanan Plan, The Townhomes At Michigan P...</td>\n",
       "      <td>The Buchanan Plan</td>\n",
       "      <td>The Townhomes At Michigan Park</td>\n",
       "      <td>DC</td>\n",
       "      <td>20017</td>\n",
       "      <td>U.S.</td>\n",
       "      <td></td>\n",
       "      <td></td>\n",
       "    </tr>\n",
       "    <tr>\n",
       "      <th>4</th>\n",
       "      <td>Plan 3 Plan, Hudson At Belterra, Austin, TX 78737</td>\n",
       "      <td>Plan 3 Plan</td>\n",
       "      <td>Hudson At Belterra</td>\n",
       "      <td>TX</td>\n",
       "      <td>78737</td>\n",
       "      <td>U.S.</td>\n",
       "      <td></td>\n",
       "      <td></td>\n",
       "    </tr>\n",
       "    <tr>\n",
       "      <th>...</th>\n",
       "      <td>...</td>\n",
       "      <td>...</td>\n",
       "      <td>...</td>\n",
       "      <td>...</td>\n",
       "      <td>...</td>\n",
       "      <td>...</td>\n",
       "      <td>...</td>\n",
       "      <td>...</td>\n",
       "    </tr>\n",
       "    <tr>\n",
       "      <th>191</th>\n",
       "      <td>065-620-017, Redding, CA 96001</td>\n",
       "      <td>065-620-017</td>\n",
       "      <td>Redding</td>\n",
       "      <td>CA</td>\n",
       "      <td>96001</td>\n",
       "      <td>U.S.</td>\n",
       "      <td></td>\n",
       "      <td></td>\n",
       "    </tr>\n",
       "    <tr>\n",
       "      <th>192</th>\n",
       "      <td>(Undisclosed Address), Washington, DC 20020</td>\n",
       "      <td>(Undisclosed Address)</td>\n",
       "      <td>Washington</td>\n",
       "      <td>DC</td>\n",
       "      <td>20020</td>\n",
       "      <td>U.S.</td>\n",
       "      <td></td>\n",
       "      <td></td>\n",
       "    </tr>\n",
       "    <tr>\n",
       "      <th>193</th>\n",
       "      <td>(Undisclosed Address), Miami, FL 33177</td>\n",
       "      <td>(Undisclosed Address)</td>\n",
       "      <td>Miami</td>\n",
       "      <td>FL</td>\n",
       "      <td>33177</td>\n",
       "      <td>U.S.</td>\n",
       "      <td></td>\n",
       "      <td></td>\n",
       "    </tr>\n",
       "    <tr>\n",
       "      <th>194</th>\n",
       "      <td>(Undisclosed Address), Miami, FL 33125</td>\n",
       "      <td>(Undisclosed Address)</td>\n",
       "      <td>Miami</td>\n",
       "      <td>FL</td>\n",
       "      <td>33125</td>\n",
       "      <td>U.S.</td>\n",
       "      <td></td>\n",
       "      <td></td>\n",
       "    </tr>\n",
       "    <tr>\n",
       "      <th>195</th>\n",
       "      <td>Whitlow Plan, Brookland Grove, Washington, DC ...</td>\n",
       "      <td>Whitlow Plan</td>\n",
       "      <td>Brookland Grove</td>\n",
       "      <td>DC</td>\n",
       "      <td>20017</td>\n",
       "      <td>U.S.</td>\n",
       "      <td></td>\n",
       "      <td></td>\n",
       "    </tr>\n",
       "  </tbody>\n",
       "</table>\n",
       "<p>196 rows × 8 columns</p>\n",
       "</div>"
      ],
      "text/plain": [
       "                                               address                 street  \\\n",
       "0    Whitlow Plan, Brookland Grove, Washington, DC ...           Whitlow Plan   \n",
       "1    Unit 02 Plan, Aria Reserve Miami, Miami, FL 33137           Unit 02 Plan   \n",
       "2    Unit 01 A Plan, Aria Reserve Miami, Miami, FL ...         Unit 01 A Plan   \n",
       "3    The Buchanan Plan, The Townhomes At Michigan P...      The Buchanan Plan   \n",
       "4    Plan 3 Plan, Hudson At Belterra, Austin, TX 78737            Plan 3 Plan   \n",
       "..                                                 ...                    ...   \n",
       "191                     065-620-017, Redding, CA 96001            065-620-017   \n",
       "192        (Undisclosed Address), Washington, DC 20020  (Undisclosed Address)   \n",
       "193             (Undisclosed Address), Miami, FL 33177  (Undisclosed Address)   \n",
       "194             (Undisclosed Address), Miami, FL 33125  (Undisclosed Address)   \n",
       "195  Whitlow Plan, Brookland Grove, Washington, DC ...           Whitlow Plan   \n",
       "\n",
       "                                city state    zip country lat long  \n",
       "0                    Brookland Grove    DC  20017    U.S.           \n",
       "1                 Aria Reserve Miami    FL  33137    U.S.           \n",
       "2                 Aria Reserve Miami    FL  33137    U.S.           \n",
       "3     The Townhomes At Michigan Park    DC  20017    U.S.           \n",
       "4                 Hudson At Belterra    TX  78737    U.S.           \n",
       "..                               ...   ...    ...     ...  ..  ...  \n",
       "191                          Redding    CA  96001    U.S.           \n",
       "192                       Washington    DC  20020    U.S.           \n",
       "193                            Miami    FL  33177    U.S.           \n",
       "194                            Miami    FL  33125    U.S.           \n",
       "195                  Brookland Grove    DC  20017    U.S.           \n",
       "\n",
       "[196 rows x 8 columns]"
      ]
     },
     "execution_count": 14,
     "metadata": {},
     "output_type": "execute_result"
    }
   ],
   "source": [
    "geo"
   ]
  },
  {
   "cell_type": "markdown",
   "id": "4b5a8771-a602-4e62-84d7-02a6b18dc724",
   "metadata": {},
   "source": [
    "## Geocoding The Addresses"
   ]
  },
  {
   "cell_type": "markdown",
   "id": "66aaacb9-7988-406b-86c2-a4f87901dbe8",
   "metadata": {},
   "source": [
    "Now its time to geocode. We will create a for loop to pass each address through the geocoder object created a couple steps above, except this time, we’ll be passing the column names for each iteration through it. Same as before, the Bing API Developer key will also have to be passed through the geocoder. We will then us the g.lat and g.long functions to request the latitudinal and longitudinal coordinates for all of our addresses."
   ]
  },
  {
   "cell_type": "code",
   "execution_count": 15,
   "id": "bc34ba5b-df17-4c88-b64a-b84e76351829",
   "metadata": {},
   "outputs": [],
   "source": [
    "for i in geo.index:\n",
    "    try:\n",
    "        g = geocoder.bing(None, addressline = geo['street'][i], locality= geo['city'][i], adminDistrict= geo['state'][i], PostalCode= geo['zip'][i], Countryregion= geo['country'][i], method='details', key='AqkhJ4a6kTQ6c4rm5vicHt7BsTav-KsWdaaKCnP794yFpzMDWPa1XCp14WUliC20')\n",
    "        g.json\n",
    "        geo.loc[i,'lat']=g.lat\n",
    "        geo.loc[i, 'long']=g.lng\n",
    "    except:\n",
    "        geo.loc[i,'lat']=''\n",
    "        geo.loc[i,'long']=''\n",
    "    "
   ]
  },
  {
   "cell_type": "markdown",
   "id": "ce3708c8-734e-42ec-b9fe-7356700aa9d0",
   "metadata": {},
   "source": [
    "Now lets take a look at the geo data frame"
   ]
  },
  {
   "cell_type": "code",
   "execution_count": 16,
   "id": "4d53b66f-dff8-4f64-8b65-5926726a2e8e",
   "metadata": {},
   "outputs": [
    {
     "data": {
      "text/html": [
       "<div>\n",
       "<style scoped>\n",
       "    .dataframe tbody tr th:only-of-type {\n",
       "        vertical-align: middle;\n",
       "    }\n",
       "\n",
       "    .dataframe tbody tr th {\n",
       "        vertical-align: top;\n",
       "    }\n",
       "\n",
       "    .dataframe thead th {\n",
       "        text-align: right;\n",
       "    }\n",
       "</style>\n",
       "<table border=\"1\" class=\"dataframe\">\n",
       "  <thead>\n",
       "    <tr style=\"text-align: right;\">\n",
       "      <th></th>\n",
       "      <th>address</th>\n",
       "      <th>street</th>\n",
       "      <th>city</th>\n",
       "      <th>state</th>\n",
       "      <th>zip</th>\n",
       "      <th>country</th>\n",
       "      <th>lat</th>\n",
       "      <th>long</th>\n",
       "    </tr>\n",
       "  </thead>\n",
       "  <tbody>\n",
       "    <tr>\n",
       "      <th>0</th>\n",
       "      <td>Whitlow Plan, Brookland Grove, Washington, DC ...</td>\n",
       "      <td>Whitlow Plan</td>\n",
       "      <td>Brookland Grove</td>\n",
       "      <td>DC</td>\n",
       "      <td>20017</td>\n",
       "      <td>U.S.</td>\n",
       "      <td>38.904778</td>\n",
       "      <td>-77.016289</td>\n",
       "    </tr>\n",
       "    <tr>\n",
       "      <th>1</th>\n",
       "      <td>Unit 02 Plan, Aria Reserve Miami, Miami, FL 33137</td>\n",
       "      <td>Unit 02 Plan</td>\n",
       "      <td>Aria Reserve Miami</td>\n",
       "      <td>FL</td>\n",
       "      <td>33137</td>\n",
       "      <td>U.S.</td>\n",
       "      <td>28.595512</td>\n",
       "      <td>-82.487343</td>\n",
       "    </tr>\n",
       "    <tr>\n",
       "      <th>2</th>\n",
       "      <td>Unit 01 A Plan, Aria Reserve Miami, Miami, FL ...</td>\n",
       "      <td>Unit 01 A Plan</td>\n",
       "      <td>Aria Reserve Miami</td>\n",
       "      <td>FL</td>\n",
       "      <td>33137</td>\n",
       "      <td>U.S.</td>\n",
       "      <td>28.595512</td>\n",
       "      <td>-82.487343</td>\n",
       "    </tr>\n",
       "    <tr>\n",
       "      <th>3</th>\n",
       "      <td>The Buchanan Plan, The Townhomes At Michigan P...</td>\n",
       "      <td>The Buchanan Plan</td>\n",
       "      <td>The Townhomes At Michigan Park</td>\n",
       "      <td>DC</td>\n",
       "      <td>20017</td>\n",
       "      <td>U.S.</td>\n",
       "      <td>38.904778</td>\n",
       "      <td>-77.016289</td>\n",
       "    </tr>\n",
       "    <tr>\n",
       "      <th>4</th>\n",
       "      <td>Plan 3 Plan, Hudson At Belterra, Austin, TX 78737</td>\n",
       "      <td>Plan 3 Plan</td>\n",
       "      <td>Hudson At Belterra</td>\n",
       "      <td>TX</td>\n",
       "      <td>78737</td>\n",
       "      <td>U.S.</td>\n",
       "      <td>31.463848</td>\n",
       "      <td>-99.333298</td>\n",
       "    </tr>\n",
       "    <tr>\n",
       "      <th>...</th>\n",
       "      <td>...</td>\n",
       "      <td>...</td>\n",
       "      <td>...</td>\n",
       "      <td>...</td>\n",
       "      <td>...</td>\n",
       "      <td>...</td>\n",
       "      <td>...</td>\n",
       "      <td>...</td>\n",
       "    </tr>\n",
       "    <tr>\n",
       "      <th>191</th>\n",
       "      <td>065-620-017, Redding, CA 96001</td>\n",
       "      <td>065-620-017</td>\n",
       "      <td>Redding</td>\n",
       "      <td>CA</td>\n",
       "      <td>96001</td>\n",
       "      <td>U.S.</td>\n",
       "      <td>40.574638</td>\n",
       "      <td>-122.381088</td>\n",
       "    </tr>\n",
       "    <tr>\n",
       "      <th>192</th>\n",
       "      <td>(Undisclosed Address), Washington, DC 20020</td>\n",
       "      <td>(Undisclosed Address)</td>\n",
       "      <td>Washington</td>\n",
       "      <td>DC</td>\n",
       "      <td>20020</td>\n",
       "      <td>U.S.</td>\n",
       "      <td>38.892063</td>\n",
       "      <td>-77.019913</td>\n",
       "    </tr>\n",
       "    <tr>\n",
       "      <th>193</th>\n",
       "      <td>(Undisclosed Address), Miami, FL 33177</td>\n",
       "      <td>(Undisclosed Address)</td>\n",
       "      <td>Miami</td>\n",
       "      <td>FL</td>\n",
       "      <td>33177</td>\n",
       "      <td>U.S.</td>\n",
       "      <td>25.775084</td>\n",
       "      <td>-80.194702</td>\n",
       "    </tr>\n",
       "    <tr>\n",
       "      <th>194</th>\n",
       "      <td>(Undisclosed Address), Miami, FL 33125</td>\n",
       "      <td>(Undisclosed Address)</td>\n",
       "      <td>Miami</td>\n",
       "      <td>FL</td>\n",
       "      <td>33125</td>\n",
       "      <td>U.S.</td>\n",
       "      <td>25.775084</td>\n",
       "      <td>-80.194702</td>\n",
       "    </tr>\n",
       "    <tr>\n",
       "      <th>195</th>\n",
       "      <td>Whitlow Plan, Brookland Grove, Washington, DC ...</td>\n",
       "      <td>Whitlow Plan</td>\n",
       "      <td>Brookland Grove</td>\n",
       "      <td>DC</td>\n",
       "      <td>20017</td>\n",
       "      <td>U.S.</td>\n",
       "      <td>38.904778</td>\n",
       "      <td>-77.016289</td>\n",
       "    </tr>\n",
       "  </tbody>\n",
       "</table>\n",
       "<p>196 rows × 8 columns</p>\n",
       "</div>"
      ],
      "text/plain": [
       "                                               address                 street  \\\n",
       "0    Whitlow Plan, Brookland Grove, Washington, DC ...           Whitlow Plan   \n",
       "1    Unit 02 Plan, Aria Reserve Miami, Miami, FL 33137           Unit 02 Plan   \n",
       "2    Unit 01 A Plan, Aria Reserve Miami, Miami, FL ...         Unit 01 A Plan   \n",
       "3    The Buchanan Plan, The Townhomes At Michigan P...      The Buchanan Plan   \n",
       "4    Plan 3 Plan, Hudson At Belterra, Austin, TX 78737            Plan 3 Plan   \n",
       "..                                                 ...                    ...   \n",
       "191                     065-620-017, Redding, CA 96001            065-620-017   \n",
       "192        (Undisclosed Address), Washington, DC 20020  (Undisclosed Address)   \n",
       "193             (Undisclosed Address), Miami, FL 33177  (Undisclosed Address)   \n",
       "194             (Undisclosed Address), Miami, FL 33125  (Undisclosed Address)   \n",
       "195  Whitlow Plan, Brookland Grove, Washington, DC ...           Whitlow Plan   \n",
       "\n",
       "                                city state    zip country        lat  \\\n",
       "0                    Brookland Grove    DC  20017    U.S.  38.904778   \n",
       "1                 Aria Reserve Miami    FL  33137    U.S.  28.595512   \n",
       "2                 Aria Reserve Miami    FL  33137    U.S.  28.595512   \n",
       "3     The Townhomes At Michigan Park    DC  20017    U.S.  38.904778   \n",
       "4                 Hudson At Belterra    TX  78737    U.S.  31.463848   \n",
       "..                               ...   ...    ...     ...        ...   \n",
       "191                          Redding    CA  96001    U.S.  40.574638   \n",
       "192                       Washington    DC  20020    U.S.  38.892063   \n",
       "193                            Miami    FL  33177    U.S.  25.775084   \n",
       "194                            Miami    FL  33125    U.S.  25.775084   \n",
       "195                  Brookland Grove    DC  20017    U.S.  38.904778   \n",
       "\n",
       "           long  \n",
       "0    -77.016289  \n",
       "1    -82.487343  \n",
       "2    -82.487343  \n",
       "3    -77.016289  \n",
       "4    -99.333298  \n",
       "..          ...  \n",
       "191 -122.381088  \n",
       "192  -77.019913  \n",
       "193  -80.194702  \n",
       "194  -80.194702  \n",
       "195  -77.016289  \n",
       "\n",
       "[196 rows x 8 columns]"
      ]
     },
     "execution_count": 16,
     "metadata": {},
     "output_type": "execute_result"
    }
   ],
   "source": [
    "geo"
   ]
  },
  {
   "cell_type": "markdown",
   "id": "c8892f03-d1de-4936-9809-6fb35324345f",
   "metadata": {},
   "source": [
    "We now have the coordinates for every single one of our addresses and have completed the geocoding process"
   ]
  }
 ],
 "metadata": {
  "celltoolbar": "Tags",
  "kernelspec": {
   "display_name": "Python 3 (ipykernel)",
   "language": "python",
   "name": "python3"
  },
  "language_info": {
   "codemirror_mode": {
    "name": "ipython",
    "version": 3
   },
   "file_extension": ".py",
   "mimetype": "text/x-python",
   "name": "python",
   "nbconvert_exporter": "python",
   "pygments_lexer": "ipython3",
   "version": "3.9.13"
  }
 },
 "nbformat": 4,
 "nbformat_minor": 5
}