{
 "cells": [
  {
   "cell_type": "markdown",
   "id": "06c079a8-6aaa-4bc9-a0e8-4fc02cf55cd9",
   "metadata": {
    "tags": []
   },
   "source": [
    "# The Command Line"
   ]
  },
  {
   "cell_type": "markdown",
   "id": "d861aff1-8d83-44fe-9811-6d07f693b3ac",
   "metadata": {},
   "source": [
    "Before you start your first project, it is important that you get familiar with the **Command Line**. \n",
    "\n",
    "The command line (also known as the Terminal, or Command Prompt) refers to a type of program that comes pre-installed with Windows, Linux, and Mac computers and allows you to execute commands, run programs and navigate through the folders on your computer. I will often use the term terminal or command line because I use a Mac, but know that they refer to the same thing.\n",
    "\n",
    "Learning the command line will be especially important for organizing your projects and you'll find out later how important it is for version control. It may seem daunting but the command line is very easy to use."
   ]
  },
  {
   "cell_type": "markdown",
   "id": "6ca62719-dbe0-4da0-89d7-84fa0a214812",
   "metadata": {
    "tags": []
   },
   "source": [
    "## Finding the Command Line"
   ]
  },
  {
   "cell_type": "markdown",
   "id": "f7f028e6-1b84-4c2d-8c0a-d221b82e2224",
   "metadata": {},
   "source": [
    "### 1.1. On Windows"
   ]
  },
  {
   "cell_type": "markdown",
   "id": "ce8d7042-f04f-4350-b0c6-5513947d3bb2",
   "metadata": {},
   "source": [
    "On Windows, you can open the Command Prompt by clicking Start and then typing **cmd** into the search box. Click on it and the command prompt should appear."
   ]
  },
  {
   "cell_type": "markdown",
   "id": "e80ea6db-c890-4174-9e00-d6676d120b3f",
   "metadata": {},
   "source": [
    "![search-cmd-prompt-1.jpeg](search-cmd-prompt-1.jpeg) "
   ]
  },
  {
   "cell_type": "markdown",
   "id": "d9a8c70b-d949-4330-8996-604311479e93",
   "metadata": {},
   "source": [
    "### 1.2. On Mac"
   ]
  },
  {
   "cell_type": "markdown",
   "id": "7f1420fc-66d0-4523-810c-64dc5f0ace87",
   "metadata": {},
   "source": [
    "To open the Command Prompt on a Mac, you can use Spotlight or Finder. To access Spotlight use the following instructions:\n",
    "- Hold the ⌘ (Command) + Space keys\n",
    "- Type in **Terminal**\n",
    "- Hit Enter"
   ]
  },
  {
   "cell_type": "markdown",
   "id": "7a0d016e-9e15-49f0-bcce-cfe6691a7f47",
   "metadata": {},
   "source": [
    "Another way to access the Command Line is by using the Finder App and typing in **Terminal** to find it"
   ]
  },
  {
   "cell_type": "markdown",
   "id": "b05f86ec-0aca-41ce-ac4a-8ac5affb6b68",
   "metadata": {},
   "source": [
    "![terminal_open.png](terminal_open.png)"
   ]
  },
  {
   "cell_type": "markdown",
   "id": "758b1107-2f1d-4ce1-b656-299990dfb43f",
   "metadata": {},
   "source": [
    "After opening the Command prompt you should see a white or black window that is now waiting for your commands. If you're using a Mac or a Linux PC like me, you probably see a dollar sign right after your username. If you are on a Windows PC you probably see a greater than (>) sign before your username. Each command you make will be preceded by the $ or < sign. "
   ]
  },
  {
   "cell_type": "markdown",
   "id": "59571ce7-3dd1-4a0b-ac02-224a705c1f9a",
   "metadata": {},
   "source": [
    "![term_intro.png](term_intro.png)"
   ]
  },
  {
   "cell_type": "markdown",
   "id": "6e644ccc-4ba9-4b88-966c-370b9ed136ca",
   "metadata": {},
   "source": [
    "Lets type in our first command by typing in the following command:\n",
    "- `whoami`"
   ]
  },
  {
   "cell_type": "markdown",
   "id": "86611506-5f7b-4ae9-9cac-0519181f10ed",
   "metadata": {},
   "source": [
    "![whoami.png](whoami.png)"
   ]
  },
  {
   "cell_type": "markdown",
   "id": "ba7ef32f-95df-49b4-92b2-88c01ce6dbbe",
   "metadata": {},
   "source": [
    "After hitting enter, you should see your username."
   ]
  },
  {
   "cell_type": "markdown",
   "id": "d0673802-adbc-479f-8fcc-577940841101",
   "metadata": {
    "tags": []
   },
   "source": [
    "## Paths "
   ]
  },
  {
   "cell_type": "markdown",
   "id": "9282009a-2e7b-428f-8efe-f0a4eb5f1b3b",
   "metadata": {},
   "source": [
    "### 1.1. Absolute Path "
   ]
  },
  {
   "cell_type": "markdown",
   "id": "9081055e-2277-49b2-b3d2-230df9961a1b",
   "metadata": {},
   "source": [
    "All files can created, updated, or deleted using the command line interface. We do this by referencing **paths**; either relative or absolute.\n",
    "\n",
    "An absolute path is the specific location of a file or folder as accessed from the root directory, typically shown as `/`. The root directory is the starting point from which all other folders are defined and is not usually the same as your **home** directory, which is normally found at `/Users/[Your Username]`."
   ]
  },
  {
   "cell_type": "markdown",
   "id": "91c1e4ab-62b5-4739-ab4c-620b0fb7429a",
   "metadata": {},
   "source": [
    "### 1.2. Relative Path"
   ]
  },
  {
   "cell_type": "markdown",
   "id": "d1d93467-a150-4c10-bf7d-03b109e0933e",
   "metadata": {},
   "source": [
    "A relative path is a reference to a file or folder **relative** to your current position or the present working directory (pwd). If we are in the folder `/a/b/` and we want to open the file that has the absolute path `/a/b/c/file.txt`, we can simply type:\n",
    "\n",
    "```bash\n",
    "open c/file.txt\n",
    "```\n",
    "\n",
    "or\n",
    "\n",
    "```bash\n",
    "open ./c/file.txt\n",
    "```\n",
    "\n",
    "We can also use the absolute path at any time by adding a slash to the beginning of the relative path. The absolute path is the same for a file or a folder, regardless of the current working directory, but relative paths differ based on directory.\n"
   ]
  },
  {
   "cell_type": "markdown",
   "id": "b8c7c1a5-83e0-47f6-930c-d81c53891e2c",
   "metadata": {
    "tags": []
   },
   "source": [
    "## Command Line Basics"
   ]
  },
  {
   "cell_type": "markdown",
   "id": "fac1e190-718f-477c-b2cb-2c4deb4dacd3",
   "metadata": {},
   "source": [
    "### 1.1. Current Working Directory"
   ]
  },
  {
   "cell_type": "markdown",
   "id": "6220fb39-e9b3-415e-b1d3-81d8af7b1c9e",
   "metadata": {},
   "source": [
    "To find your current working directory:\n",
    "- **For Windows**: type `cd` and click enter,\n",
    "- **For Mac**: type `pwd` and hit enter"
   ]
  },
  {
   "cell_type": "markdown",
   "id": "b4f492a8-ecc0-4c66-99e3-58ec57f53343",
   "metadata": {},
   "source": [
    "![pwd_command.png](pwd_command.png)"
   ]
  },
  {
   "cell_type": "markdown",
   "id": "a2cf4c9a-ecb9-447f-8b0b-4de6ce751985",
   "metadata": {},
   "source": [
    "### 1.2. List Files and Directories"
   ]
  },
  {
   "cell_type": "markdown",
   "id": "be1015d8-0c96-4348-87e5-ef9ddc7930fc",
   "metadata": {},
   "source": [
    "To see what is in a current directory:\n",
    "- **For Windows**: type `ls` and click enter \n",
    "- **For Mac**: type `dir` and click enter"
   ]
  },
  {
   "cell_type": "markdown",
   "id": "f3f341e0-675b-485f-afbb-a328a35c2de4",
   "metadata": {},
   "source": [
    "![ls_command.png](ls_command.png)"
   ]
  },
  {
   "cell_type": "markdown",
   "id": "2de98735-6daa-47ea-b98d-83a688ad73e6",
   "metadata": {},
   "source": [
    "### 1.3. Change current directory"
   ]
  },
  {
   "cell_type": "markdown",
   "id": "8a1aa7a2-a0ab-46d3-963b-1f72913ecc4d",
   "metadata": {},
   "source": [
    "To change a current directory use cd and type in the new location you want to go to. In this case, we will try to go to the Desktop directory. Lets ensure that our working directory has changed by using our **cd** or **pwd** function\n",
    "\n",
    "**For Windows and Mac**:\n",
    "- `cd` Desktop\n",
    "- `pwd`"
   ]
  },
  {
   "cell_type": "markdown",
   "id": "015f5e1c-9f6e-4a10-916f-05343b2d211a",
   "metadata": {},
   "source": [
    "![diff_dir.png](diff_dir.png)"
   ]
  },
  {
   "cell_type": "markdown",
   "id": "07a95dd3-9ac7-4248-972e-8bfe1df0dd97",
   "metadata": {},
   "source": [
    "### 1.4. Creating a new directory/folder"
   ]
  },
  {
   "cell_type": "markdown",
   "id": "182a7b96-540b-492a-82a1-a4f7937e9209",
   "metadata": {},
   "source": [
    "Lets create a new folder called *practice* in the Desktop directory. To create a new directory, we will use the **mkdir** function and hit enter\n",
    "\n",
    "**For both Windows and Mac**:\n",
    "- `mkdir` practice"
   ]
  },
  {
   "cell_type": "markdown",
   "id": "995681c5-67a4-484c-a56a-611b092c5f64",
   "metadata": {},
   "source": [
    "![mkdir_command.png](mkdir_command.png)"
   ]
  },
  {
   "cell_type": "markdown",
   "id": "d8aa2a53-679c-491e-b040-2d24c7b0eeaa",
   "metadata": {},
   "source": [
    "Now lets confirm that it indeed exists by using the **ls** command to look in our Desktop folder\n",
    "\n",
    "**For both Windows and Mac**:\n",
    "- `ls`"
   ]
  },
  {
   "cell_type": "markdown",
   "id": "4be593f9-8436-4dda-a3ab-02de3fcf786a",
   "metadata": {},
   "source": [
    "![ls-Desktop.png](ls-Desktop.png)"
   ]
  },
  {
   "cell_type": "markdown",
   "id": "a319084b-a04c-48c6-aaa1-8f4a17bc646a",
   "metadata": {},
   "source": [
    "### 1.5. Deleting Files and Directories"
   ]
  },
  {
   "cell_type": "markdown",
   "id": "3f72a7e3-1aa6-41b7-85cb-a5465afa804d",
   "metadata": {},
   "source": [
    "Now this is something you want to be extremely careful with since it cannot be undone. Ensure you are in the correct directory with the file or folder you would like to delete and be sure to double check so you don't lose important work"
   ]
  },
  {
   "cell_type": "markdown",
   "id": "aa1d8e37-c1e0-4f95-a8af-e26a4ae4dbe2",
   "metadata": {},
   "source": [
    "To delete a file use the **rm** or **rmdir** command:\n",
    "- **For Windows**: `rmdir`\n",
    "- **For Mac**: `rm -r` "
   ]
  },
  {
   "cell_type": "markdown",
   "id": "fba4bc1e-18c1-4f67-8a2a-2ec5bd229c3b",
   "metadata": {},
   "source": [
    "Lets delete the practice file we created and check after to see if it has actually been deleted "
   ]
  },
  {
   "cell_type": "markdown",
   "id": "7c711c4a-d528-467b-a136-2c69448de900",
   "metadata": {},
   "source": [
    "![practice_gone.png](practice_gone.png)"
   ]
  },
  {
   "cell_type": "markdown",
   "id": "32298e53-4ce5-4896-a0ad-bb3ed7c641ac",
   "metadata": {
    "tags": []
   },
   "source": [
    "### 1.6. Creating Files (text files)"
   ]
  },
  {
   "cell_type": "markdown",
   "id": "bd543671-324f-48b8-a451-26e8866fde90",
   "metadata": {},
   "source": [
    "- **For Mac** : `touch [enterfilename.txt]`\n",
    "- **For Windows** : `echo [enterfilename.txt]`"
   ]
  },
  {
   "cell_type": "markdown",
   "id": "b048374c-79e7-4f6f-bb68-e02ca5027f8a",
   "metadata": {},
   "source": [
    "### 1.7. Cleaning up your Command Prompt"
   ]
  },
  {
   "cell_type": "markdown",
   "id": "006edc91-1e6b-46c0-a28b-7071f6ba8144",
   "metadata": {},
   "source": [
    "For a complete clean slate in your command prompt, use the **clear** function\n",
    "- **For both Windows and Mac**: `clear`"
   ]
  },
  {
   "cell_type": "markdown",
   "id": "de8935f5-5c37-4fae-99d1-650a04214eb3",
   "metadata": {},
   "source": [
    "### 1.8. Exiting the Command Line"
   ]
  },
  {
   "cell_type": "markdown",
   "id": "d688f532-bb0a-4742-859c-4962a9efceb5",
   "metadata": {},
   "source": [
    "To safely close the Command Line:\n",
    "- **For both Windows and Mac**: `exit`"
   ]
  },
  {
   "cell_type": "markdown",
   "id": "29c3d061-171d-410a-ad6a-185141ef2b92",
   "metadata": {
    "tags": []
   },
   "source": [
    "## Extra Learning Resources"
   ]
  },
  {
   "cell_type": "markdown",
   "id": "62af37b5-e1f4-46b5-8023-6708635933ec",
   "metadata": {},
   "source": [
    "Now these are just a few examples of what you can do in the command line, but these are the basic commands I find myself using over and over again to maintain my directories. \n",
    "\n",
    "These commands can be easy to forget when starting out, so for a quick refresher and to play with more commands, you can download this [Command Line Cheat Sheet](https://www.git-tower.com/blog/command-line-cheat-sheet/) or use this [Command Line Reference](https://ss64.com/) guide. "
   ]
  }
 ],
 "metadata": {
  "kernelspec": {
   "display_name": "Python 3 (ipykernel)",
   "language": "python",
   "name": "python3"
  },
  "language_info": {
   "codemirror_mode": {
    "name": "ipython",
    "version": 3
   },
   "file_extension": ".py",
   "mimetype": "text/x-python",
   "name": "python",
   "nbconvert_exporter": "python",
   "pygments_lexer": "ipython3",
   "version": "3.9.13"
  }
 },
 "nbformat": 4,
 "nbformat_minor": 5
}